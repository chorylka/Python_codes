{
 "cells": [
  {
   "cell_type": "code",
   "execution_count": 1,
   "metadata": {},
   "outputs": [],
   "source": [
    "#these are some examples on how to manipulate strings\n",
    "#strings can begin and end with double quotes in order to use Stella's\n",
    "\n",
    "spam = \"Carly is Stella's dog\""
   ]
  },
  {
   "cell_type": "code",
   "execution_count": 2,
   "metadata": {},
   "outputs": [
    {
     "name": "stdout",
     "output_type": "stream",
     "text": [
      "Carly is Stella's dog\n"
     ]
    }
   ],
   "source": [
    "print(spam)"
   ]
  },
  {
   "cell_type": "code",
   "execution_count": 3,
   "metadata": {},
   "outputs": [
    {
     "name": "stdout",
     "output_type": "stream",
     "text": [
      "Stella's dog is called Carly\n"
     ]
    }
   ],
   "source": [
    "#scape characters allows you to use both ' \" in a single string as follows:\n",
    "\n",
    "spam2 = 'Stella\\'s dog is called Carly' #in this one the ' after Stella is part of the string\n",
    "print(spam2)"
   ]
  },
  {
   "cell_type": "code",
   "execution_count": 4,
   "metadata": {},
   "outputs": [
    {
     "name": "stdout",
     "output_type": "stream",
     "text": [
      "Stella was \"surprised\" at her party\n"
     ]
    }
   ],
   "source": [
    "spam3 = \"Stella was \\\"surprised\\\" at her party\"\n",
    "print(spam3)"
   ]
  },
  {
   "cell_type": "code",
   "execution_count": 10,
   "metadata": {},
   "outputs": [
    {
     "name": "stdout",
     "output_type": "stream",
     "text": [
      " this is summary of scape characters \n",
      "\\' single quote \n",
      "\\\" double quote \n",
      "\\t Tab          \n",
      "\\n Newline (line break) \n",
      "\\\\ Backslash \n",
      "\n"
     ]
    }
   ],
   "source": [
    "spam4 = ''' this is summary of scape characters \n",
    "\\\\' single quote \n",
    "\\\\\" double quote \n",
    "\\\\t Tab          \n",
    "\\\\n Newline (line break) \n",
    "\\\\\\ Backslash \n",
    "'''\n",
    "print(spam4)"
   ]
  },
  {
   "cell_type": "code",
   "execution_count": 11,
   "metadata": {},
   "outputs": [
    {
     "name": "stdout",
     "output_type": "stream",
     "text": [
      "That is Carol\\'s cat\n"
     ]
    }
   ],
   "source": [
    "#in case it's required to print string values which contain a lot of backslashes, such as used for regex\n",
    "#a good idea is the use of raw strings as follows:\n",
    "\n",
    "print(r'That is Carol\\'s cat') #the r indicates this is a raw string"
   ]
  },
  {
   "cell_type": "code",
   "execution_count": 12,
   "metadata": {},
   "outputs": [
    {
     "name": "stdout",
     "output_type": "stream",
     "text": [
      "Dear all,\n",
      "\n",
      "This is a gentle reminder on how to use triple strings. Ok, this kinda simples stuff.\n",
      "\n",
      "Cheers,\n",
      "\n",
      "Carlos A\n",
      "\n"
     ]
    }
   ],
   "source": [
    "#to print multiline strings we need to use triple quotes ''' as follows:\n",
    "\n",
    "print('''Dear all,\n",
    "\n",
    "This is a gentle reminder on how to use triple strings. Ok, this kinda simples stuff.\n",
    "\n",
    "Cheers,\n",
    "\n",
    "Carlos A\n",
    "'''\n",
    ") #everything between the '''is printed including the spaces ..."
   ]
  },
  {
   "cell_type": "code",
   "execution_count": 13,
   "metadata": {},
   "outputs": [
    {
     "data": {
      "text/plain": [
       "'This is a multiline comment\\nWritten by me to demonstrate what is required\\n\\nthis is my email cahorylka@gmail.com\\n'"
      ]
     },
     "execution_count": 13,
     "metadata": {},
     "output_type": "execute_result"
    }
   ],
   "source": [
    "#multiline comments needs to be places between \"\"\" as follows:\n",
    "\n",
    "\"\"\"This is a multiline comment\n",
    "Written by me to demonstrate what is required\n",
    "\n",
    "this is my email cahorylka@gmail.com\n",
    "\"\"\"\n"
   ]
  },
  {
   "cell_type": "code",
   "execution_count": 15,
   "metadata": {},
   "outputs": [
    {
     "name": "stdout",
     "output_type": "stream",
     "text": [
      "H spam[0]\n",
      "e spam[1]\n",
      "l spam[2]\n",
      "l spam[3]\n",
      "o spam[4]\n",
      "  spam[5]\n",
      "W spam[6]\n",
      "o spam[7]\n",
      "r spam[8]\n",
      "l spam[9]\n",
      "d spam[10]\n",
      "! spam[11]\n"
     ]
    }
   ],
   "source": [
    "#strings are sliced in the same way as lists\n",
    "\n",
    "spam = 'Hello World!'\n",
    "for i in range(len(spam)):\n",
    "    print(spam[i] + ' spam[' + str(i) + ']')\n",
    "    \n",
    "#each character gets an index in spam including the spaces    \n",
    "    "
   ]
  },
  {
   "cell_type": "code",
   "execution_count": 26,
   "metadata": {},
   "outputs": [
    {
     "name": "stdout",
     "output_type": "stream",
     "text": [
      "H spam[0]\n",
      "e spam[1]\n",
      "l spam[2]\n",
      "l spam[3]\n",
      "o spam[4]\n",
      "  spam[5]\n",
      "N spam[6]\n",
      "o spam[7]\n",
      "r spam[8]\n",
      "m spam[9]\n",
      "a spam[10]\n",
      "n spam[11]\n",
      "! spam[12]\n",
      "**************\n",
      "Hell\n",
      "No\n",
      "!\n"
     ]
    }
   ],
   "source": [
    "#we can also use a slice to print only part of the string:\n",
    "#but in this case it's required to place the result in a variable\n",
    "HiddenMessage = 'Hello Norman!'\n",
    "for i in range(len(HiddenMessage)):\n",
    "    print(HiddenMessage[i] + ' spam[' + str(i) + ']')\n",
    "\n",
    "#print(len(HiddenMessage))\n",
    "print('**************')\n",
    "print(HiddenMessage[0:4])\n",
    "print(HiddenMessage[6:8])\n",
    "print(HiddenMessage[12])"
   ]
  },
  {
   "cell_type": "code",
   "execution_count": 27,
   "metadata": {},
   "outputs": [
    {
     "data": {
      "text/plain": [
       "True"
      ]
     },
     "execution_count": 27,
     "metadata": {},
     "output_type": "execute_result"
    }
   ],
   "source": [
    "#this is the way [in] and [not in] operators and strings work\n",
    "'Hell' in HiddenMessage"
   ]
  },
  {
   "cell_type": "code",
   "execution_count": 28,
   "metadata": {},
   "outputs": [
    {
     "data": {
      "text/plain": [
       "True"
      ]
     },
     "execution_count": 28,
     "metadata": {},
     "output_type": "execute_result"
    }
   ],
   "source": [
    "'Normal' not in HiddenMessage #NOT IN"
   ]
  },
  {
   "cell_type": "code",
   "execution_count": 29,
   "metadata": {},
   "outputs": [
    {
     "data": {
      "text/plain": [
       "False"
      ]
     },
     "execution_count": 29,
     "metadata": {},
     "output_type": "execute_result"
    }
   ],
   "source": [
    "'Normal' in HiddenMessage"
   ]
  },
  {
   "cell_type": "code",
   "execution_count": 33,
   "metadata": {},
   "outputs": [
    {
     "name": "stdout",
     "output_type": "stream",
     "text": [
      "UP THE IRONS!!!\n",
      "up the irons!!!\n"
     ]
    }
   ],
   "source": [
    "#these are some useful methods for strings:\n",
    "#   upper()\n",
    "#   lower()\n",
    "#   isupper() --> this one returns True if the string has one letter and all the letters are uppercase\n",
    "#   islower() --> this one returns True if the string has one letter and all the letters are lowercase\n",
    "# if the program requires to change the string value, this new value needs to be assigned to a new variable\n",
    "\n",
    "IronMaiden = 'up the irons!!!'\n",
    "screamforme = IronMaiden.upper()\n",
    "whisper = screamforme.lower()\n",
    "print(screamforme)\n",
    "print(whisper)\n"
   ]
  },
  {
   "cell_type": "code",
   "execution_count": 34,
   "metadata": {},
   "outputs": [
    {
     "data": {
      "text/plain": [
       "True"
      ]
     },
     "execution_count": 34,
     "metadata": {},
     "output_type": "execute_result"
    }
   ],
   "source": [
    "screamforme.isupper()"
   ]
  },
  {
   "cell_type": "code",
   "execution_count": 35,
   "metadata": {},
   "outputs": [
    {
     "data": {
      "text/plain": [
       "True"
      ]
     },
     "execution_count": 35,
     "metadata": {},
     "output_type": "execute_result"
    }
   ],
   "source": [
    "whisper.islower()"
   ]
  },
  {
   "cell_type": "code",
   "execution_count": 36,
   "metadata": {},
   "outputs": [
    {
     "data": {
      "text/plain": [
       "True"
      ]
     },
     "execution_count": 36,
     "metadata": {},
     "output_type": "execute_result"
    }
   ],
   "source": [
    "#some more useful methods\n",
    "#   isalpha() True if string is only letters and not blank\n",
    "#   isalnum() True if string is letters and numbers and not blank \n",
    "#   isdecimal() True if string is made of numeric characters and is not blank\n",
    "#   isspace() True if string is made of spaces, tabs, newlines and not blank\n",
    "#   istitle() True if string consists in words that begin with an uppercase letter followed by a lowercase letter\n",
    "\n",
    "#let's have a look at some examples:\n",
    "\n",
    "'Carlos'.isalpha()"
   ]
  },
  {
   "cell_type": "code",
   "execution_count": 37,
   "metadata": {},
   "outputs": [
    {
     "data": {
      "text/plain": [
       "True"
      ]
     },
     "execution_count": 37,
     "metadata": {},
     "output_type": "execute_result"
    }
   ],
   "source": [
    "'Carlos123'.isalnum()"
   ]
  },
  {
   "cell_type": "code",
   "execution_count": 38,
   "metadata": {},
   "outputs": [
    {
     "data": {
      "text/plain": [
       "True"
      ]
     },
     "execution_count": 38,
     "metadata": {},
     "output_type": "execute_result"
    }
   ],
   "source": [
    "'123'.isdecimal()"
   ]
  },
  {
   "cell_type": "code",
   "execution_count": 40,
   "metadata": {},
   "outputs": [
    {
     "data": {
      "text/plain": [
       "True"
      ]
     },
     "execution_count": 40,
     "metadata": {},
     "output_type": "execute_result"
    }
   ],
   "source": [
    "' '.isspace()"
   ]
  },
  {
   "cell_type": "code",
   "execution_count": 41,
   "metadata": {},
   "outputs": [
    {
     "data": {
      "text/plain": [
       "True"
      ]
     },
     "execution_count": 41,
     "metadata": {},
     "output_type": "execute_result"
    }
   ],
   "source": [
    "'Carlos Is The King Of The World'.istitle()"
   ]
  },
  {
   "cell_type": "code",
   "execution_count": 44,
   "metadata": {},
   "outputs": [
    {
     "name": "stdout",
     "output_type": "stream",
     "text": [
      "Enter your age:\n"
     ]
    },
    {
     "name": "stdin",
     "output_type": "stream",
     "text": [
      " dez\n"
     ]
    },
    {
     "name": "stdout",
     "output_type": "stream",
     "text": [
      "Please enter a number for your age!!!!\n",
      "Enter your age:\n"
     ]
    },
    {
     "name": "stdin",
     "output_type": "stream",
     "text": [
      " cinquenta\n"
     ]
    },
    {
     "name": "stdout",
     "output_type": "stream",
     "text": [
      "Please enter a number for your age!!!!\n",
      "Enter your age:\n"
     ]
    },
    {
     "name": "stdin",
     "output_type": "stream",
     "text": [
      " dezesseis\n"
     ]
    },
    {
     "name": "stdout",
     "output_type": "stream",
     "text": [
      "Please enter a number for your age!!!!\n",
      "Enter your age:\n"
     ]
    },
    {
     "name": "stdin",
     "output_type": "stream",
     "text": [
      " 16\n"
     ]
    }
   ],
   "source": [
    "#these methods are mainly used to validate user input:\n",
    "\n",
    "while True:\n",
    "    print('Enter your age:')\n",
    "#    age = input()\n",
    "#    if age.isdecimal():\n",
    "#        break\n",
    "#    print('Please enter a number for your age!!!!')\n",
    "    \n",
    "    \n",
    "    \n",
    "    "
   ]
  },
  {
   "cell_type": "code",
   "execution_count": 45,
   "metadata": {},
   "outputs": [
    {
     "data": {
      "text/plain": [
       "True"
      ]
     },
     "execution_count": 45,
     "metadata": {},
     "output_type": "execute_result"
    }
   ],
   "source": [
    "#two more useful methods startswith() and endswith()\n",
    "#these are alternatives to the == operator when you need to check the first or last part of the string#\n",
    "\n",
    "'Hello World'.startswith('Hello')"
   ]
  },
  {
   "cell_type": "code",
   "execution_count": 46,
   "metadata": {},
   "outputs": [
    {
     "data": {
      "text/plain": [
       "True"
      ]
     },
     "execution_count": 46,
     "metadata": {},
     "output_type": "execute_result"
    }
   ],
   "source": [
    "'Hello World'.endswith('World')"
   ]
  },
  {
   "cell_type": "code",
   "execution_count": 47,
   "metadata": {},
   "outputs": [
    {
     "data": {
      "text/plain": [
       "'carlos,alessandra,stella'"
      ]
     },
     "execution_count": 47,
     "metadata": {},
     "output_type": "execute_result"
    }
   ],
   "source": [
    "#join and split methods\n",
    "#split breaks in words not characters ...\n",
    "\n",
    "','.join(['carlos','alessandra','stella'])"
   ]
  },
  {
   "cell_type": "code",
   "execution_count": 48,
   "metadata": {},
   "outputs": [
    {
     "data": {
      "text/plain": [
       "'my name is carlos'"
      ]
     },
     "execution_count": 48,
     "metadata": {},
     "output_type": "execute_result"
    }
   ],
   "source": [
    "''.join(['my name is carlos'])"
   ]
  },
  {
   "cell_type": "code",
   "execution_count": 50,
   "metadata": {},
   "outputs": [
    {
     "data": {
      "text/plain": [
       "'myXXXnameXXXisXXXcarlos'"
      ]
     },
     "execution_count": 50,
     "metadata": {},
     "output_type": "execute_result"
    }
   ],
   "source": [
    "'XXX'.join(['my', 'name', 'is', 'carlos'])"
   ]
  },
  {
   "cell_type": "code",
   "execution_count": 51,
   "metadata": {},
   "outputs": [
    {
     "data": {
      "text/plain": [
       "['My', 'name', 'is', 'Carlos']"
      ]
     },
     "execution_count": 51,
     "metadata": {},
     "output_type": "execute_result"
    }
   ],
   "source": [
    "'My name is Carlos'.split()"
   ]
  },
  {
   "cell_type": "code",
   "execution_count": 52,
   "metadata": {},
   "outputs": [
    {
     "data": {
      "text/plain": [
       "17"
      ]
     },
     "execution_count": 52,
     "metadata": {},
     "output_type": "execute_result"
    }
   ],
   "source": [
    "len('My name is Carlos')"
   ]
  },
  {
   "cell_type": "code",
   "execution_count": 58,
   "metadata": {},
   "outputs": [
    {
     "name": "stdout",
     "output_type": "stream",
     "text": [
      "M spam[0]\n",
      "y spam[1]\n",
      "  spam[2]\n",
      "n spam[3]\n",
      "a spam[4]\n",
      "m spam[5]\n",
      "e spam[6]\n",
      "  spam[7]\n",
      "i spam[8]\n",
      "s spam[9]\n",
      "  spam[10]\n",
      "C spam[11]\n",
      "a spam[12]\n",
      "r spam[13]\n",
      "l spam[14]\n",
      "o spam[15]\n",
      "s spam[16]\n",
      "17\n"
     ]
    }
   ],
   "source": [
    "nome = 'My name is Carlos'\n",
    "for i in range(len(nome)):\n",
    "    print(nome[i] + ' spam[' + str(i) + ']')\n",
    "    \n",
    "print(len(nome)) \n",
    "\n",
    "\n"
   ]
  },
  {
   "cell_type": "code",
   "execution_count": 59,
   "metadata": {},
   "outputs": [
    {
     "data": {
      "text/plain": [
       "'My name is Carlos'"
      ]
     },
     "execution_count": 59,
     "metadata": {},
     "output_type": "execute_result"
    }
   ],
   "source": [
    "nome"
   ]
  },
  {
   "cell_type": "code",
   "execution_count": 61,
   "metadata": {},
   "outputs": [
    {
     "data": {
      "text/plain": [
       "['My na', 'e is Carlos']"
      ]
     },
     "execution_count": 61,
     "metadata": {},
     "output_type": "execute_result"
    }
   ],
   "source": [
    "nome.split('m')   #in this case, \"m\" is passed as a delimiter"
   ]
  },
  {
   "cell_type": "code",
   "execution_count": 63,
   "metadata": {},
   "outputs": [],
   "source": [
    "FilesNames = ','.join(['file1.txt', 'file2.txt', 'file3.txt'])"
   ]
  },
  {
   "cell_type": "code",
   "execution_count": 64,
   "metadata": {},
   "outputs": [
    {
     "data": {
      "text/plain": [
       "'file1.txtfile2.txtfile3.txt'"
      ]
     },
     "execution_count": 64,
     "metadata": {},
     "output_type": "execute_result"
    }
   ],
   "source": [
    "FilesNames"
   ]
  },
  {
   "cell_type": "code",
   "execution_count": 66,
   "metadata": {},
   "outputs": [
    {
     "name": "stdout",
     "output_type": "stream",
     "text": [
      "['file1', 'file2', 'file3', '']\n"
     ]
    }
   ],
   "source": [
    "FilesNamesFinal = FilesNames.split('.txt')\n",
    "print(FilesNamesFinal)"
   ]
  },
  {
   "cell_type": "code",
   "execution_count": 70,
   "metadata": {},
   "outputs": [
    {
     "name": "stdout",
     "output_type": "stream",
     "text": [
      "a,b,c\n"
     ]
    }
   ],
   "source": [
    "blah = ','.join(['a', 'b', 'c'])\n",
    "print(blah)"
   ]
  },
  {
   "cell_type": "code",
   "execution_count": 71,
   "metadata": {},
   "outputs": [],
   "source": [
    "nome = \"Meu nome é Carlos Horylka\"\n",
    "nome = nome.split()"
   ]
  },
  {
   "cell_type": "code",
   "execution_count": 72,
   "metadata": {},
   "outputs": [
    {
     "name": "stdout",
     "output_type": "stream",
     "text": [
      "['Meu', 'nome', 'é', 'Carlos', 'Horylka']\n"
     ]
    }
   ],
   "source": [
    "print(nome)"
   ]
  },
  {
   "cell_type": "code",
   "execution_count": 6,
   "metadata": {},
   "outputs": [
    {
     "name": "stdout",
     "output_type": "stream",
     "text": [
      "*****hello\n",
      "hello*****\n",
      "=======hello========\n"
     ]
    }
   ],
   "source": [
    "#there are also methods to justify right, left and center\n",
    "#these methods are called rjust(), ljust() and center()\n",
    "#these methods are useful when we need to print tabular data\n",
    "\n",
    "\n",
    "example1 = 'hello'. rjust(10, '*')\n",
    "example2 = 'hello'.ljust(10,'*')\n",
    "example3 = 'hello'.center(20,'=')\n",
    "print(example1)\n",
    "print(example2)\n",
    "print(example3)\n"
   ]
  },
  {
   "cell_type": "code",
   "execution_count": 9,
   "metadata": {},
   "outputs": [
    {
     "data": {
      "text/plain": [
       "'HELLO WORLD'"
      ]
     },
     "execution_count": 9,
     "metadata": {},
     "output_type": "execute_result"
    }
   ],
   "source": [
    "#we can also remove white spaces, (space, tab and newline) using the methods\n",
    "#strip(), rstrip() and lstrip()\n",
    "#let's have a look at some examples:\n",
    "\n",
    "blah = '         HELLO WORLD           '\n",
    "blah.strip() #here I'm removing the spaces from both sides"
   ]
  },
  {
   "cell_type": "code",
   "execution_count": 10,
   "metadata": {},
   "outputs": [
    {
     "data": {
      "text/plain": [
       "'BaconSpamEggs'"
      ]
     },
     "execution_count": 10,
     "metadata": {},
     "output_type": "execute_result"
    }
   ],
   "source": [
    "#passing the argument 'ampS' is going to strip the occurencies of a,m,p,S\n",
    "#from the string passed regardless on the order passed\n",
    "\n",
    "foobar = 'SpamSpamBaconSpamEggsSpamSpam'\n",
    "foobar.strip('ampS')"
   ]
  },
  {
   "cell_type": "code",
   "execution_count": 2,
   "metadata": {},
   "outputs": [
    {
     "name": "stdout",
     "output_type": "stream",
     "text": [
      "hello\n",
      ",\n",
      " world!!!\n"
     ]
    }
   ],
   "source": [
    "#the module pyperclip has two functions copy() and paste() that can send and \n",
    "#receive texts from the clipboard\n",
    "#we can also split strings using the partition() Method\n",
    "#it returns three substrings as follows: \"before\", \"separator\", \"after\"\n",
    "\n",
    "before, sep, after = 'hello, world!!!'.partition(',')\n",
    "print(before)\n",
    "print(sep)\n",
    "print(after)\n",
    "\n",
    " "
   ]
  },
  {
   "cell_type": "code",
   "execution_count": 3,
   "metadata": {},
   "outputs": [
    {
     "data": {
      "text/plain": [
       "65"
      ]
     },
     "execution_count": 3,
     "metadata": {},
     "output_type": "execute_result"
    }
   ],
   "source": [
    "#ord() function is used to get the code point of a one character string\n",
    "#chr() function returns one character string of an integer code point\n",
    "#these functions are useful to do an ordering or math operation with characters\n",
    "\n",
    "ord('A')"
   ]
  },
  {
   "cell_type": "code",
   "execution_count": 4,
   "metadata": {},
   "outputs": [
    {
     "data": {
      "text/plain": [
       "97"
      ]
     },
     "execution_count": 4,
     "metadata": {},
     "output_type": "execute_result"
    }
   ],
   "source": [
    "ord('a')"
   ]
  },
  {
   "cell_type": "code",
   "execution_count": 5,
   "metadata": {},
   "outputs": [
    {
     "data": {
      "text/plain": [
       "'A'"
      ]
     },
     "execution_count": 5,
     "metadata": {},
     "output_type": "execute_result"
    }
   ],
   "source": [
    "chr(65)"
   ]
  },
  {
   "cell_type": "code",
   "execution_count": 6,
   "metadata": {},
   "outputs": [
    {
     "data": {
      "text/plain": [
       "'a'"
      ]
     },
     "execution_count": 6,
     "metadata": {},
     "output_type": "execute_result"
    }
   ],
   "source": [
    "chr(97)"
   ]
  },
  {
   "cell_type": "code",
   "execution_count": null,
   "metadata": {},
   "outputs": [],
   "source": []
  }
 ],
 "metadata": {
  "kernelspec": {
   "display_name": "Python 3",
   "language": "python",
   "name": "python3"
  },
  "language_info": {
   "codemirror_mode": {
    "name": "ipython",
    "version": 3
   },
   "file_extension": ".py",
   "mimetype": "text/x-python",
   "name": "python",
   "nbconvert_exporter": "python",
   "pygments_lexer": "ipython3",
   "version": "3.7.6"
  }
 },
 "nbformat": 4,
 "nbformat_minor": 4
}
