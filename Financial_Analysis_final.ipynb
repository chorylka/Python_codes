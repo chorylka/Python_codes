{
 "cells": [
  {
   "cell_type": "code",
   "execution_count": 12,
   "metadata": {},
   "outputs": [],
   "source": [
    "#this is the start data\n",
    "#Data \n",
    "revenue = [14574.49, 7606.46, 8611.41, 9175.41, 8058.65, 8105.44, 11496.28, 9766.09, 10305.32, 14379.96, 10713.97, 15433.50]\n",
    "expenses = [12051.82, 5695.07, 12319.20, 12089.72, 8658.57, 840.20, 3285.73, 5821.12, 6976.93, 16618.61, 10054.37, 3803.96]"
   ]
  },
  {
   "cell_type": "code",
   "execution_count": 2,
   "metadata": {},
   "outputs": [
    {
     "data": {
      "text/plain": [
       "[14574.49,\n",
       " 7606.46,\n",
       " 8611.41,\n",
       " 9175.41,\n",
       " 8058.65,\n",
       " 8105.44,\n",
       " 11496.28,\n",
       " 9766.09,\n",
       " 10305.32,\n",
       " 14379.96,\n",
       " 10713.97,\n",
       " 15433.5]"
      ]
     },
     "execution_count": 2,
     "metadata": {},
     "output_type": "execute_result"
    }
   ],
   "source": [
    "revenue"
   ]
  },
  {
   "cell_type": "code",
   "execution_count": 3,
   "metadata": {},
   "outputs": [
    {
     "data": {
      "text/plain": [
       "[12051.82,\n",
       " 5695.07,\n",
       " 12319.2,\n",
       " 12089.72,\n",
       " 8658.57,\n",
       " 840.2,\n",
       " 3285.73,\n",
       " 5821.12,\n",
       " 6976.93,\n",
       " 16618.61,\n",
       " 10054.37,\n",
       " 3803.96]"
      ]
     },
     "execution_count": 3,
     "metadata": {},
     "output_type": "execute_result"
    }
   ],
   "source": [
    "expenses"
   ]
  },
  {
   "cell_type": "code",
   "execution_count": 4,
   "metadata": {},
   "outputs": [
    {
     "data": {
      "text/plain": [
       "12"
      ]
     },
     "execution_count": 4,
     "metadata": {},
     "output_type": "execute_result"
    }
   ],
   "source": [
    "len(revenue)"
   ]
  },
  {
   "cell_type": "code",
   "execution_count": 5,
   "metadata": {},
   "outputs": [
    {
     "data": {
      "text/plain": [
       "12"
      ]
     },
     "execution_count": 5,
     "metadata": {},
     "output_type": "execute_result"
    }
   ],
   "source": [
    "len(expenses)"
   ]
  },
  {
   "cell_type": "markdown",
   "metadata": {},
   "source": [
    "--------------------------"
   ]
  },
  {
   "cell_type": "code",
   "execution_count": 31,
   "metadata": {},
   "outputs": [
    {
     "data": {
      "text/plain": [
       "[0.12116163241389578,\n",
       " 0.1758995643176984,\n",
       " -0.3013969837692086,\n",
       " -0.2223352416949215,\n",
       " -0.05211096151340486,\n",
       " 0.6274388558795081,\n",
       " 0.49993432658216397,\n",
       " 0.2827619856052934,\n",
       " 0.2260844884001661,\n",
       " -0.10897492065346503,\n",
       " 0.04309513653668985,\n",
       " 0.5274680403019406]"
      ]
     },
     "execution_count": 31,
     "metadata": {},
     "output_type": "execute_result"
    }
   ],
   "source": [
    "#Profit calculation\n",
    "#profit = revenue - expense\n",
    "#Solution\n",
    "#Calculate Profit As The Differences Between Revenue And Expenses\n",
    "#profit[] lista do lucro\n",
    "profit = []\n",
    "profit_after_tax = []\n",
    "profit_margin = []\n",
    "\n",
    "\n",
    "for i in range (0, len(revenue)):\n",
    "    profit.append(revenue[i] - expenses[i])\n",
    "    profit_after_tax.append((revenue[i] - expenses[i]) * 0.7)\n",
    "    profit_margin.append(profit_after_tax[i]/ revenue[i])\n",
    "    \n",
    "profit\n",
    "profit_after_tax\n",
    "profit_margin\n"
   ]
  },
  {
   "cell_type": "raw",
   "metadata": {},
   "source": [
    "a = [1,2,3]\n",
    "b = [4,5,6]\n",
    "c = []\n",
    "for i in range (0, len(a)):\n",
    "    c.append(b[i]- a[i])\n",
    "c    "
   ]
  },
  {
   "cell_type": "code",
   "execution_count": 19,
   "metadata": {},
   "outputs": [
    {
     "data": {
      "text/plain": [
       "[2522.67,\n",
       " 1911.3900000000003,\n",
       " -3707.790000000001,\n",
       " -2914.3099999999995,\n",
       " -599.9200000000001,\n",
       " 7265.24,\n",
       " 8210.550000000001,\n",
       " 3944.9700000000003,\n",
       " 3328.3899999999994,\n",
       " -2238.6500000000015,\n",
       " 659.5999999999985,\n",
       " 11629.54]"
      ]
     },
     "execution_count": 19,
     "metadata": {},
     "output_type": "execute_result"
    }
   ],
   "source": [
    "profit"
   ]
  },
  {
   "cell_type": "code",
   "execution_count": 21,
   "metadata": {},
   "outputs": [
    {
     "data": {
      "text/plain": [
       "[1765.869,\n",
       " 1337.9730000000002,\n",
       " -2595.4530000000004,\n",
       " -2040.0169999999996,\n",
       " -419.944,\n",
       " 5085.668,\n",
       " 5747.385,\n",
       " 2761.479,\n",
       " 2329.8729999999996,\n",
       " -1567.055000000001,\n",
       " 461.71999999999895,\n",
       " 8140.678]"
      ]
     },
     "execution_count": 21,
     "metadata": {},
     "output_type": "execute_result"
    }
   ],
   "source": [
    "profit_after_tax"
   ]
  },
  {
   "cell_type": "code",
   "execution_count": 22,
   "metadata": {},
   "outputs": [
    {
     "name": "stdout",
     "output_type": "stream",
     "text": [
      "8140.678\n"
     ]
    }
   ],
   "source": [
    "#best month calculation\n",
    "best_month = max(profit_after_tax)\n",
    "print(best_month)"
   ]
  },
  {
   "cell_type": "code",
   "execution_count": 23,
   "metadata": {},
   "outputs": [
    {
     "name": "stdout",
     "output_type": "stream",
     "text": [
      "-2595.4530000000004\n"
     ]
    }
   ],
   "source": [
    "#worst month calculation\n",
    "worst_month = min(profit_after_tax)\n",
    "print(worst_month)"
   ]
  },
  {
   "cell_type": "code",
   "execution_count": 29,
   "metadata": {},
   "outputs": [
    {
     "name": "stdout",
     "output_type": "stream",
     "text": [
      "2500.973333333333\n",
      "1750.6813333333332\n"
     ]
    }
   ],
   "source": [
    "#mean calculation\n",
    "import numpy as np\n",
    "mean_before_tax = np.mean(profit)\n",
    "mean_after_tax = np.mean(profit_after_tax)\n",
    "print(mean_before_tax)\n",
    "print(mean_after_tax)"
   ]
  },
  {
   "cell_type": "code",
   "execution_count": 32,
   "metadata": {},
   "outputs": [
    {
     "data": {
      "text/plain": [
       "[0.12116163241389578,\n",
       " 0.1758995643176984,\n",
       " -0.3013969837692086,\n",
       " -0.2223352416949215,\n",
       " -0.05211096151340486,\n",
       " 0.6274388558795081,\n",
       " 0.49993432658216397,\n",
       " 0.2827619856052934,\n",
       " 0.2260844884001661,\n",
       " -0.10897492065346503,\n",
       " 0.04309513653668985,\n",
       " 0.5274680403019406]"
      ]
     },
     "execution_count": 32,
     "metadata": {},
     "output_type": "execute_result"
    }
   ],
   "source": [
    "profit_margin"
   ]
  },
  {
   "cell_type": "code",
   "execution_count": 33,
   "metadata": {},
   "outputs": [
    {
     "data": {
      "text/plain": [
       "[True, False, False, False, False, True, True, True, True, False, False, True]"
      ]
     },
     "execution_count": 33,
     "metadata": {},
     "output_type": "execute_result"
    }
   ],
   "source": [
    "#good_months == true when condition is reached\n",
    "good_months = []\n",
    "for i in range (0, len(profit_after_tax)):\n",
    "    good_months.append(profit_after_tax[i] > mean_after_tax)\n",
    "good_months"
   ]
  },
  {
   "cell_type": "code",
   "execution_count": 34,
   "metadata": {},
   "outputs": [
    {
     "data": {
      "text/plain": [
       "[False, True, True, True, True, False, False, False, False, True, True, False]"
      ]
     },
     "execution_count": 34,
     "metadata": {},
     "output_type": "execute_result"
    }
   ],
   "source": [
    "#bad_months == true when condition is reached\n",
    "bad_months = []\n",
    "for i in range (0, len(profit_after_tax)):\n",
    "    bad_months.append(not profit_after_tax[i] > mean_after_tax)\n",
    "bad_months"
   ]
  },
  {
   "cell_type": "raw",
   "metadata": {},
   "source": [
    "revenue_1000"
   ]
  },
  {
   "cell_type": "code",
   "execution_count": 40,
   "metadata": {},
   "outputs": [],
   "source": [
    "import numpy as np\n",
    "revenue_1000 = np.around(revenue, decimals = 2)"
   ]
  },
  {
   "cell_type": "code",
   "execution_count": 41,
   "metadata": {},
   "outputs": [
    {
     "data": {
      "text/plain": [
       "array([14574.49,  7606.46,  8611.41,  9175.41,  8058.65,  8105.44,\n",
       "       11496.28,  9766.09, 10305.32, 14379.96, 10713.97, 15433.5 ])"
      ]
     },
     "execution_count": 41,
     "metadata": {},
     "output_type": "execute_result"
    }
   ],
   "source": [
    "revenue_1000"
   ]
  },
  {
   "cell_type": "code",
   "execution_count": 42,
   "metadata": {},
   "outputs": [],
   "source": [
    "expenses_1000 = np.around(expenses, decimals =2)"
   ]
  },
  {
   "cell_type": "code",
   "execution_count": 43,
   "metadata": {},
   "outputs": [
    {
     "data": {
      "text/plain": [
       "array([12051.82,  5695.07, 12319.2 , 12089.72,  8658.57,   840.2 ,\n",
       "        3285.73,  5821.12,  6976.93, 16618.61, 10054.37,  3803.96])"
      ]
     },
     "execution_count": 43,
     "metadata": {},
     "output_type": "execute_result"
    }
   ],
   "source": [
    "expenses_1000"
   ]
  },
  {
   "cell_type": "code",
   "execution_count": 50,
   "metadata": {},
   "outputs": [],
   "source": [
    "#rounding the numbers\n",
    "profit_1000 = np.around(profit, decimals = 2)\n",
    "profit_after_tax_1000 = np.around(profit_after_tax, decimals = 2)\n",
    "profit_margin_1000 = np.around(profit_margin, decimals = 2)\n",
    "best_month_1000 = np.around(best_month, decimals = 2)\n",
    "worst_month_1000 = np.around(worst_month, decimals = 2)"
   ]
  },
  {
   "cell_type": "code",
   "execution_count": 45,
   "metadata": {},
   "outputs": [
    {
     "data": {
      "text/plain": [
       "array([ 2522.67,  1911.39, -3707.79, -2914.31,  -599.92,  7265.24,\n",
       "        8210.55,  3944.97,  3328.39, -2238.65,   659.6 , 11629.54])"
      ]
     },
     "execution_count": 45,
     "metadata": {},
     "output_type": "execute_result"
    }
   ],
   "source": [
    "profit_1000"
   ]
  },
  {
   "cell_type": "code",
   "execution_count": 71,
   "metadata": {},
   "outputs": [
    {
     "name": "stdout",
     "output_type": "stream",
     "text": [
      "Revenue :\n",
      "[14574.49  7606.46  8611.41  9175.41  8058.65  8105.44 11496.28  9766.09\n",
      " 10305.32 14379.96 10713.97 15433.5 ]\n",
      "Expenses :\n",
      "[12051.82  5695.07 12319.2  12089.72  8658.57   840.2   3285.73  5821.12\n",
      "  6976.93 16618.61 10054.37  3803.96]\n",
      "Profit :\n",
      "[ 2522.67  1911.39 -3707.79 -2914.31  -599.92  7265.24  8210.55  3944.97\n",
      "  3328.39 -2238.65   659.6  11629.54]\n",
      "Profit after tax :\n",
      "[ 1765.87  1337.97 -2595.45 -2040.02  -419.94  5085.67  5747.38  2761.48\n",
      "  2329.87 -1567.06   461.72  8140.68]\n",
      "Profit margin :\n",
      "[ 0.12  0.18 -0.3  -0.22 -0.05  0.63  0.5   0.28  0.23 -0.11  0.04  0.53]\n",
      "Profit margin (%)\n",
      "[ 12.  18. -30. -22.  -5.  63.  50.  28.  23. -11.   4.  53.] %\n",
      "Good months :\n",
      "[True, False, False, False, False, True, True, True, True, False, False, True]\n",
      "Bad months :\n",
      "[False, True, True, True, True, False, False, False, False, True, True, False]\n",
      "Best month :\n",
      "8140.68\n",
      "Worst month :\n",
      "-2595.45\n"
     ]
    }
   ],
   "source": [
    "#printing the results\n",
    "print (\"Revenue :\") \n",
    "print (revenue_1000)\n",
    "print (\"Expenses :\") \n",
    "print (expenses_1000)\n",
    "print (\"Profit :\")\n",
    "print(profit_1000)\n",
    "print (\"Profit after tax :\")\n",
    "print (profit_after_tax_1000)\n",
    "print (\"Profit margin :\")\n",
    "print (profit_margin_1000)\n",
    "print (\"Profit margin (%)\")\n",
    "print ((profit_margin_1000 * 100), \"%\")\n",
    "print (\"Good months :\")\n",
    "print (good_months)\n",
    "print (\"Bad months :\")\n",
    "print (bad_months)\n",
    "print (\"Best month :\")\n",
    "print (best_month_1000)\n",
    "print (\"Worst month :\")\n",
    "print (worst_month_1000)"
   ]
  },
  {
   "cell_type": "code",
   "execution_count": null,
   "metadata": {},
   "outputs": [],
   "source": []
  }
 ],
 "metadata": {
  "kernelspec": {
   "display_name": "Python 3",
   "language": "python",
   "name": "python3"
  },
  "language_info": {
   "codemirror_mode": {
    "name": "ipython",
    "version": 3
   },
   "file_extension": ".py",
   "mimetype": "text/x-python",
   "name": "python",
   "nbconvert_exporter": "python",
   "pygments_lexer": "ipython3",
   "version": "3.7.6"
  }
 },
 "nbformat": 4,
 "nbformat_minor": 4
}
