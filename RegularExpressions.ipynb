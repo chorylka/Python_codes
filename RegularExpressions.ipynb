{
 "cells": [
  {
   "cell_type": "code",
   "execution_count": 26,
   "metadata": {},
   "outputs": [],
   "source": [
    "import re"
   ]
  },
  {
   "cell_type": "code",
   "execution_count": 27,
   "metadata": {},
   "outputs": [],
   "source": [
    "phoneNumRegex = re.compile(r'\\d{2}-\\d{4}-\\d{4}')"
   ]
  },
  {
   "cell_type": "code",
   "execution_count": 44,
   "metadata": {},
   "outputs": [
    {
     "name": "stdout",
     "output_type": "stream",
     "text": [
      "Enter a string and I will try to find a valid phone number\n"
     ]
    },
    {
     "name": "stdin",
     "output_type": "stream",
     "text": [
      " meu numero é 41-3081-3852\n"
     ]
    },
    {
     "name": "stdout",
     "output_type": "stream",
     "text": [
      "I found the following number: 41-3081-3852\n"
     ]
    }
   ],
   "source": [
    "#we always pass a raw string which does not scape characters\n",
    "#the Regex search() method searches the string passed for any matches \n",
    "#to the regex\n",
    "#the method group() returns the actual matched text\n",
    "\n",
    "#one cool example:\n",
    "\n",
    "landlineNumRegex = re.compile(r'\\d{2}-\\d{4}-\\d{4}')\n",
    "print('Enter a string and I will try to find a valid phone number')\n",
    "string = input()\n",
    "mo = landlineNumRegex.search(string)\n",
    "#print(mo)\n",
    "if mo == None:\n",
    "    print('sorry, could not find any valid phone number on the string')\n",
    "print('I found the following number: ' + mo.group())"
   ]
  },
  {
   "cell_type": "code",
   "execution_count": 37,
   "metadata": {},
   "outputs": [
    {
     "name": "stdout",
     "output_type": "stream",
     "text": [
      "I found the following number: 41-3081-3852\n",
      "area code: 41\n",
      "phone number: 3081-3852\n"
     ]
    }
   ],
   "source": [
    "#now let's separate in groups\n",
    "landlineNumRegex = re.compile(r'(\\d{2})-(\\d{4}-\\d{4})')\n",
    "mo = landlineNumRegex.search('My number is 41-3081-3852.')\n",
    "print('I found the following number: ' + mo.group())\n",
    "print('area code: ' + mo.group(1))\n",
    "print('phone number: ' + mo.group(2))\n"
   ]
  },
  {
   "cell_type": "code",
   "execution_count": 45,
   "metadata": {},
   "outputs": [
    {
     "data": {
      "text/plain": [
       "'Batman'"
      ]
     },
     "execution_count": 45,
     "metadata": {},
     "output_type": "execute_result"
    }
   ],
   "source": [
    "#matching groups with the pipe character |\n",
    "#the regex r'Batman|Tina Fey will match either 'Batman' or 'Tina Fey'\n",
    "\n",
    "heroRegex = re.compile(r'Batman|Tina Fey')\n",
    "mol = heroRegex.search('Batman and Tina Fey')\n",
    "mol.group()"
   ]
  },
  {
   "cell_type": "code",
   "execution_count": 48,
   "metadata": {},
   "outputs": [
    {
     "data": {
      "text/plain": [
       "'Batmobile'"
      ]
     },
     "execution_count": 48,
     "metadata": {},
     "output_type": "execute_result"
    }
   ],
   "source": [
    "#the match return is always going to be the first occurence ...\n",
    "# the | can also be used to match string which start with a prefix\n",
    "# in this example Bat\n",
    "\n",
    "batRegex = re.compile(r'Bat(man|mobile|copter|boat)')\n",
    "mo = batRegex.search('Batmobile lost a wheel')\n",
    "mo.group()                      \n"
   ]
  },
  {
   "cell_type": "code",
   "execution_count": 49,
   "metadata": {},
   "outputs": [],
   "source": [
    "#if you need to match an actual pipe character, you need to scape it\n",
    "#with a backslash, like \\|\n",
    "\n"
   ]
  },
  {
   "cell_type": "code",
   "execution_count": 58,
   "metadata": {},
   "outputs": [
    {
     "name": "stdout",
     "output_type": "stream",
     "text": [
      "41-3081-3852\n",
      "3081-3852\n"
     ]
    }
   ],
   "source": [
    "#optional matching of a regex cna be done with a ? flag\n",
    "#in this example we're finding phone numbers with or without an area code\n",
    "\n",
    "phoneRegex = re.compile(r'((\\d{2}-)?\\d{4}-\\d{4})')\n",
    "mol1 = phoneRegex.search('my number is 41-3081-3852')\n",
    "mol1 = mol1.group()\n",
    "mol2 = phoneRegex.search('my number is 3081-3852')\n",
    "mol2 = mol2.group()\n",
    "print(mol1) #match was found wiht the full regex\n",
    "print(mol2) #match was found with the regex after the ? flag"
   ]
  },
  {
   "cell_type": "code",
   "execution_count": 68,
   "metadata": {},
   "outputs": [
    {
     "name": "stdout",
     "output_type": "stream",
     "text": [
      "None\n",
      "None\n",
      "hahaha\n",
      "hahahaha\n",
      "hahahahaha\n",
      "hahahahaha\n"
     ]
    }
   ],
   "source": [
    "#specific repetition using curly brackets\n",
    "#if I want to match 3,4 or 5 repetitions of a pattern I can use the {}\n",
    "\n",
    "haRegex = re.compile(r'(ha){3,5}')\n",
    "ha1 = haRegex.search('ha')\n",
    "#ha1 = ha1.group()\n",
    "ha2 = haRegex.search('haha')\n",
    "#ha2 = ha1.group()\n",
    "ha3 = haRegex.search('hahaha')\n",
    "ha3 = ha3.group()\n",
    "ha4 = haRegex.search('hahahaha')\n",
    "ha4 = ha4.group()\n",
    "ha5 = haRegex.search('hahahahaha')\n",
    "ha5 = ha5.group()\n",
    "ha6 = haRegex.search('hahahahahaha')\n",
    "ha6 = ha6.group()\n",
    "print(ha1)\n",
    "print(ha2)\n",
    "print(ha3)\n",
    "print(ha4)\n",
    "print(ha5)\n",
    "print(ha6)\n",
    "    \n",
    "                     "
   ]
  },
  {
   "cell_type": "code",
   "execution_count": 74,
   "metadata": {},
   "outputs": [
    {
     "data": {
      "text/plain": [
       "['41-3081-3852', '41-3076-2945']"
      ]
     },
     "execution_count": 74,
     "metadata": {},
     "output_type": "execute_result"
    }
   ],
   "source": [
    "#the findall() method returns a list of strings as long as there are\n",
    "#no groups on the regular expression, in other words finds all the \n",
    "#matches\n",
    "\n",
    "phoneRegex = re.compile(r'(\\d{2}-\\d{4}-\\d{4})')\n",
    "phoneRegex.findall('my numbers are: 41-3081-3852 work and 41-3076-2945 home')\n"
   ]
  },
  {
   "cell_type": "code",
   "execution_count": 75,
   "metadata": {},
   "outputs": [
    {
     "data": {
      "text/plain": [
       "['12 drumers',\n",
       " '11 pipers',\n",
       " '10 lords',\n",
       " '9 ladies',\n",
       " '8 maids',\n",
       " '7 swamns',\n",
       " '6 geese',\n",
       " '5 rings',\n",
       " '4 birds',\n",
       " '3 hens',\n",
       " '2 doves',\n",
       " '1 partridge']"
      ]
     },
     "execution_count": 75,
     "metadata": {},
     "output_type": "execute_result"
    }
   ],
   "source": [
    "#shorthand codes for regex\n",
    "# \\d any numeric from 0 to 9\n",
    "# \\D any character that is NOT a numeric digit from 0 to 9\n",
    "# \\w any letter, numeric digit, or uderscore character\n",
    "# \\W any character that is NOT a letter, numeric digit, or uderscore\n",
    "# \\s any space, tab, or newline character\n",
    "# \\S any character that is NOT a space, tab, or newline\n",
    "\n",
    "# for example (0|1|2|3|4|5) is the same as [0-5]\n",
    "\n",
    "xmasRegex = re.compile(r'\\d+\\s\\w+')\n",
    "xmasRegex.findall('12 drumers, 11 pipers, 10 lords, 9 ladies, 8 maids, 7 swamns, 6 geese, 5 rings, 4 birds, 3 hens, 2 doves, 1 partridge')"
   ]
  },
  {
   "cell_type": "code",
   "execution_count": 76,
   "metadata": {},
   "outputs": [
    {
     "data": {
      "text/plain": [
       "['e', 'I', 'o', 'O', 'u', 'o', 'e', 'e', 'A', 'o']"
      ]
     },
     "execution_count": 76,
     "metadata": {},
     "output_type": "execute_result"
    }
   ],
   "source": [
    "#the regex \\d+\\s\\w+ matches:\n",
    "# one or more numeric digits (\\d+)\n",
    "# followed by a whitespace (\\s)\n",
    "# followed by one or more letter/ digit/ underscore character (\\w+)\n",
    "# the method findall() returns all matching strings\n",
    "\n",
    "# the following regex is going to find any vowel both lower or uppercase\n",
    "\n",
    "\n",
    "vowelRegex = re.compile(r'[aeiouAEIOU]')\n",
    "vowelRegex.findall('The BIg brown FOX jumps over the LAZY Dog')"
   ]
  },
  {
   "cell_type": "code",
   "execution_count": 92,
   "metadata": {},
   "outputs": [
    {
     "data": {
      "text/plain": [
       "['T',\n",
       " 'h',\n",
       " ' ',\n",
       " 'B',\n",
       " 'g',\n",
       " ' ',\n",
       " 'b',\n",
       " 'r',\n",
       " 'w',\n",
       " 'n',\n",
       " ' ',\n",
       " 'F',\n",
       " 'X',\n",
       " ' ',\n",
       " 'j',\n",
       " 'm',\n",
       " 'p',\n",
       " 's',\n",
       " ' ',\n",
       " 'v',\n",
       " 'r',\n",
       " ' ',\n",
       " 't',\n",
       " 'h',\n",
       " ' ',\n",
       " 'L',\n",
       " 'Z',\n",
       " 'Y',\n",
       " ' ',\n",
       " 'D',\n",
       " 'g']"
      ]
     },
     "execution_count": 92,
     "metadata": {},
     "output_type": "execute_result"
    }
   ],
   "source": [
    "#if I want to match any character different than a vowel I can use\n",
    "# the ^ character\n",
    "\n",
    "consonantsRegex = re.compile(r'[^aeiouAEIOU]')\n",
    "consonantsRegex.findall('The BIg brown FOX jumps over the LAZY Dog')\n"
   ]
  },
  {
   "cell_type": "code",
   "execution_count": 91,
   "metadata": {},
   "outputs": [
    {
     "data": {
      "text/plain": [
       "['This',\n",
       " 'is',\n",
       " 'a',\n",
       " 'string',\n",
       " 'But',\n",
       " 'it',\n",
       " 'has',\n",
       " 'punctuation',\n",
       " 'How',\n",
       " 'can',\n",
       " 'we',\n",
       " 'remove',\n",
       " 'it']"
      ]
     },
     "execution_count": 91,
     "metadata": {},
     "output_type": "execute_result"
    }
   ],
   "source": [
    "test_phrase = 'This is a string! But it has punctuation. How can we remove it?'\n",
    "re.findall('[^!.? ]+',test_phrase)"
   ]
  },
  {
   "cell_type": "code",
   "execution_count": 93,
   "metadata": {},
   "outputs": [
    {
     "data": {
      "text/plain": [
       "<re.Match object; span=(0, 8), match='12345678'>"
      ]
     },
     "execution_count": 93,
     "metadata": {},
     "output_type": "execute_result"
    }
   ],
   "source": [
    "# the ^ symbol at the start indicates the match MUST occur at the \n",
    "# beggining of the searched text\n",
    "# the $ symbol indicates the regex MUST end with this pattern\n",
    "# so ^ and $ together indicate the entire string must match the regex\n",
    "\n",
    "wholeStringIsNum = re.compile(r'^\\d+$')\n",
    "\n",
    "#this regex looks for a string only with numbers\n",
    "\n",
    "wholeStringIsNum.search('12345678')"
   ]
  },
  {
   "cell_type": "code",
   "execution_count": 95,
   "metadata": {},
   "outputs": [
    {
     "name": "stdout",
     "output_type": "stream",
     "text": [
      "None\n"
     ]
    }
   ],
   "source": [
    "print(wholeStringIsNum.search('abc12345678'))"
   ]
  },
  {
   "cell_type": "code",
   "execution_count": 96,
   "metadata": {},
   "outputs": [
    {
     "data": {
      "text/plain": [
       "['cat', 'hat', 'sat', 'lat', 'mat']"
      ]
     },
     "execution_count": 96,
     "metadata": {},
     "output_type": "execute_result"
    }
   ],
   "source": [
    "# the . (dot) is the wildcard character and will match any character\n",
    "# except a newline\n",
    "\n",
    "atRegex = re.compile(r'.at')\n",
    "atRegex.findall('The cat in the hat sat on the flat mat.')"
   ]
  },
  {
   "cell_type": "code",
   "execution_count": 97,
   "metadata": {},
   "outputs": [
    {
     "data": {
      "text/plain": [
       "'Al'"
      ]
     },
     "execution_count": 97,
     "metadata": {},
     "output_type": "execute_result"
    }
   ],
   "source": [
    "# the .* matches everything it means \"anything\"\n",
    "\n",
    "nameRegex = re.compile(r'First Name: (.*) Last Name: (.*)')\n",
    "mo = nameRegex.search('First Name: Al Last Name: Sweigart')\n",
    "mo.group(1)"
   ]
  },
  {
   "cell_type": "code",
   "execution_count": 98,
   "metadata": {},
   "outputs": [
    {
     "data": {
      "text/plain": [
       "'Sweigart'"
      ]
     },
     "execution_count": 98,
     "metadata": {},
     "output_type": "execute_result"
    }
   ],
   "source": [
    "mo.group(2)"
   ]
  },
  {
   "cell_type": "code",
   "execution_count": 100,
   "metadata": {},
   "outputs": [
    {
     "data": {
      "text/plain": [
       "'Robocop'"
      ]
     },
     "execution_count": 100,
     "metadata": {},
     "output_type": "execute_result"
    }
   ],
   "source": [
    "#to make a regex case-insensitive we need to pass \n",
    "# re.IGNORECASE or re.I as a second argument to re.compile()\n",
    "\n",
    "robocop = re.compile(r'robocop', re.I) #the argument re.I found Robocop\n",
    "robocop.search('Robocop is part man, part machine, all cop.').group()"
   ]
  },
  {
   "cell_type": "code",
   "execution_count": 101,
   "metadata": {},
   "outputs": [
    {
     "data": {
      "text/plain": [
       "'ROBOCOP'"
      ]
     },
     "execution_count": 101,
     "metadata": {},
     "output_type": "execute_result"
    }
   ],
   "source": [
    "robocop.search('ROBOCOP protects the innocent').group()"
   ]
  },
  {
   "cell_type": "code",
   "execution_count": 102,
   "metadata": {},
   "outputs": [],
   "source": [
    "# in these past two examples the search for the string robocop was done\n",
    "# ignoring the case"
   ]
  },
  {
   "cell_type": "code",
   "execution_count": 113,
   "metadata": {},
   "outputs": [
    {
     "name": "stdout",
     "output_type": "stream",
     "text": [
      "['Agent Alice', 'Agent Carol', 'Agent Eve', 'Agent Bob']\n"
     ]
    },
    {
     "data": {
      "text/plain": [
       "'***CENSORED*** told ***CENSORED*** that ***CENSORED*** knew ***CENSORED*** was a double agent.'"
      ]
     },
     "execution_count": 113,
     "metadata": {},
     "output_type": "execute_result"
    }
   ],
   "source": [
    "# the sub() method replaces the match by another string passed as argument\n",
    "\n",
    "agentNamesRegex = re.compile(r'Agent \\w*')\n",
    "a = agentNamesRegex.findall('Agent Alice told Agent Carol that Agent Eve knew Agent Bob was a double agent.')\n",
    "print(a)\n",
    "\n",
    "agentNamesRegex.sub(r'***CENSORED***', 'Agent Alice told Agent Carol that Agent Eve knew Agent Bob was a double agent.')\n",
    "                             "
   ]
  },
  {
   "cell_type": "code",
   "execution_count": null,
   "metadata": {},
   "outputs": [],
   "source": [
    "\n",
    "    "
   ]
  }
 ],
 "metadata": {
  "kernelspec": {
   "display_name": "Python 3",
   "language": "python",
   "name": "python3"
  },
  "language_info": {
   "codemirror_mode": {
    "name": "ipython",
    "version": 3
   },
   "file_extension": ".py",
   "mimetype": "text/x-python",
   "name": "python",
   "nbconvert_exporter": "python",
   "pygments_lexer": "ipython3",
   "version": "3.7.6"
  }
 },
 "nbformat": 4,
 "nbformat_minor": 4
}
