{
 "cells": [
  {
   "cell_type": "code",
   "execution_count": 2,
   "metadata": {},
   "outputs": [
    {
     "name": "stdout",
     "output_type": "stream",
     "text": [
      "362880\n"
     ]
    }
   ],
   "source": [
    "#on this example log is recorded on \n",
    "#/Users/carloshorylka/log.txt\n",
    "\n",
    "import logging\n",
    "logging.basicConfig(filename='/Users/carloshorylka/log.txt', level=logging.DEBUG, format='%(asctime)s - %(levelname)s - %(message)s')\n",
    "#logging.disable(logging.CRITICAL) \n",
    "#removing the comment from the above line I'm disabling the logs\n",
    "def factorial(n):\n",
    "    logging.debug('Start of factorial(%s)' % (n))\n",
    "    total = 1\n",
    "    for i in range(1, n+1):   #this was the line changed passing the starting point\n",
    "        total *= i\n",
    "        logging.debug('i is %s, total is %s' % (i, total))\n",
    "    return total\n",
    "print(factorial(9))\n",
    "\n",
    "logging.debug('End of program')"
   ]
  },
  {
   "cell_type": "code",
   "execution_count": 3,
   "metadata": {},
   "outputs": [
    {
     "name": "stdout",
     "output_type": "stream",
     "text": [
      "40320\n"
     ]
    }
   ],
   "source": [
    "print(factorial(8))"
   ]
  },
  {
   "cell_type": "code",
   "execution_count": 4,
   "metadata": {},
   "outputs": [
    {
     "name": "stdout",
     "output_type": "stream",
     "text": [
      "120\n"
     ]
    }
   ],
   "source": [
    "print(factorial(5))"
   ]
  },
  {
   "cell_type": "code",
   "execution_count": null,
   "metadata": {},
   "outputs": [],
   "source": []
  }
 ],
 "metadata": {
  "kernelspec": {
   "display_name": "Python 3",
   "language": "python",
   "name": "python3"
  },
  "language_info": {
   "codemirror_mode": {
    "name": "ipython",
    "version": 3
   },
   "file_extension": ".py",
   "mimetype": "text/x-python",
   "name": "python",
   "nbconvert_exporter": "python",
   "pygments_lexer": "ipython3",
   "version": "3.7.6"
  }
 },
 "nbformat": 4,
 "nbformat_minor": 4
}
