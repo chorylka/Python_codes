{
 "cells": [
  {
   "cell_type": "code",
   "execution_count": 1,
   "metadata": {},
   "outputs": [
    {
     "name": "stdout",
     "output_type": "stream",
     "text": [
      "ROCK, PAPER, SCISSORS\n",
      "0 Wins, 0 Losses, 0 Ties\n",
      "Enter your move: (r)ock (p)aper (s)cissors or (q)uit\n"
     ]
    },
    {
     "name": "stdin",
     "output_type": "stream",
     "text": [
      " r\n"
     ]
    },
    {
     "name": "stdout",
     "output_type": "stream",
     "text": [
      "ROCK versus...\n",
      "PAPER\n",
      "You lose!\n",
      "0 Wins, 1 Losses, 0 Ties\n",
      "Enter your move: (r)ock (p)aper (s)cissors or (q)uit\n"
     ]
    },
    {
     "name": "stdin",
     "output_type": "stream",
     "text": [
      " r\n"
     ]
    },
    {
     "name": "stdout",
     "output_type": "stream",
     "text": [
      "ROCK versus...\n",
      "SCISSORS\n",
      "You win!\n",
      "1 Wins, 1 Losses, 0 Ties\n",
      "Enter your move: (r)ock (p)aper (s)cissors or (q)uit\n"
     ]
    },
    {
     "name": "stdin",
     "output_type": "stream",
     "text": [
      " s\n"
     ]
    },
    {
     "name": "stdout",
     "output_type": "stream",
     "text": [
      "SCISSORS versus...\n",
      "ROCK\n",
      "You lose!\n",
      "1 Wins, 2 Losses, 0 Ties\n",
      "Enter your move: (r)ock (p)aper (s)cissors or (q)uit\n"
     ]
    },
    {
     "name": "stdin",
     "output_type": "stream",
     "text": [
      " q\n"
     ]
    },
    {
     "ename": "SystemExit",
     "evalue": "",
     "output_type": "error",
     "traceback": [
      "An exception has occurred, use %tb to see the full traceback.\n",
      "\u001b[0;31mSystemExit\u001b[0m\n"
     ]
    },
    {
     "name": "stderr",
     "output_type": "stream",
     "text": [
      "/opt/anaconda3/lib/python3.7/site-packages/IPython/core/interactiveshell.py:3339: UserWarning: To exit: use 'exit', 'quit', or Ctrl-D.\n",
      "  warn(\"To exit: use 'exit', 'quit', or Ctrl-D.\", stacklevel=1)\n"
     ]
    }
   ],
   "source": [
    "import random, sys\n",
    "\n",
    "print('ROCK, PAPER, SCISSORS')\n",
    "\n",
    "# These variables keep track of the number of wins, losses, and ties.\n",
    "wins = 0\n",
    "losses = 0\n",
    "ties = 0\n",
    "\n",
    "while True: # The main game loop.\n",
    "    print('%s Wins, %s Losses, %s Ties' % (wins, losses, ties))\n",
    "    while True: # The player input loop.\n",
    "        print('Enter your move: (r)ock (p)aper (s)cissors or (q)uit')\n",
    "        playerMove = input()\n",
    "        if playerMove == 'q':\n",
    "            sys.exit() # Quit the program.\n",
    "        if playerMove == 'r' or playerMove == 'p' or playerMove == 's':\n",
    "            break # Break out of the player input loop.\n",
    "        print('Type one of r, p, s, or q.')\n",
    "\n",
    "    # Display what the player chose:\n",
    "    if playerMove == 'r':\n",
    "        print('ROCK versus...')\n",
    "    elif playerMove == 'p':\n",
    "        print('PAPER versus...')\n",
    "    elif playerMove == 's':\n",
    "        print('SCISSORS versus...')\n",
    "\n",
    "    # Display what the computer chose:\n",
    "    randomNumber = random.randint(1, 3)\n",
    "    if randomNumber == 1:\n",
    "        computerMove = 'r'\n",
    "        print('ROCK')\n",
    "    elif randomNumber == 2:\n",
    "        computerMove = 'p'\n",
    "        print('PAPER')\n",
    "    elif randomNumber == 3:\n",
    "        computerMove = 's'\n",
    "        print('SCISSORS')\n",
    "\n",
    "    # Display and record the win/loss/tie:\n",
    "    if playerMove == computerMove:\n",
    "        print('It is a tie!')\n",
    "        ties = ties + 1\n",
    "    elif playerMove == 'r' and computerMove == 's':\n",
    "        print('You win!')\n",
    "        wins = wins + 1\n",
    "    elif playerMove == 'p' and computerMove == 'r':\n",
    "        print('You win!')\n",
    "        wins = wins + 1\n",
    "    elif playerMove == 's' and computerMove == 'p':\n",
    "        print('You win!')\n",
    "        wins = wins + 1\n",
    "    elif playerMove == 'r' and computerMove == 'p':\n",
    "        print('You lose!')\n",
    "        losses = losses + 1\n",
    "    elif playerMove == 'p' and computerMove == 's':\n",
    "        print('You lose!')\n",
    "        losses = losses + 1\n",
    "    elif playerMove == 's' and computerMove == 'r':\n",
    "        print('You lose!')\n",
    "        losses = losses + 1"
   ]
  },
  {
   "cell_type": "code",
   "execution_count": 2,
   "metadata": {},
   "outputs": [
    {
     "ename": "SystemExit",
     "evalue": "",
     "output_type": "error",
     "traceback": [
      "\u001b[0;31m---------------------------------------------------------------------------\u001b[0m",
      "\u001b[0;31mSystemExit\u001b[0m                                Traceback (most recent call last)",
      "\u001b[0;32m<ipython-input-1-ea65175f7de0>\u001b[0m in \u001b[0;36m<module>\u001b[0;34m\u001b[0m\n\u001b[1;32m     14\u001b[0m         \u001b[0mplayerMove\u001b[0m \u001b[0;34m=\u001b[0m \u001b[0minput\u001b[0m\u001b[0;34m(\u001b[0m\u001b[0;34m)\u001b[0m\u001b[0;34m\u001b[0m\u001b[0;34m\u001b[0m\u001b[0m\n\u001b[1;32m     15\u001b[0m         \u001b[0;32mif\u001b[0m \u001b[0mplayerMove\u001b[0m \u001b[0;34m==\u001b[0m \u001b[0;34m'q'\u001b[0m\u001b[0;34m:\u001b[0m\u001b[0;34m\u001b[0m\u001b[0;34m\u001b[0m\u001b[0m\n\u001b[0;32m---> 16\u001b[0;31m             \u001b[0msys\u001b[0m\u001b[0;34m.\u001b[0m\u001b[0mexit\u001b[0m\u001b[0;34m(\u001b[0m\u001b[0;34m)\u001b[0m \u001b[0;31m# Quit the program.\u001b[0m\u001b[0;34m\u001b[0m\u001b[0;34m\u001b[0m\u001b[0m\n\u001b[0m\u001b[1;32m     17\u001b[0m         \u001b[0;32mif\u001b[0m \u001b[0mplayerMove\u001b[0m \u001b[0;34m==\u001b[0m \u001b[0;34m'r'\u001b[0m \u001b[0;32mor\u001b[0m \u001b[0mplayerMove\u001b[0m \u001b[0;34m==\u001b[0m \u001b[0;34m'p'\u001b[0m \u001b[0;32mor\u001b[0m \u001b[0mplayerMove\u001b[0m \u001b[0;34m==\u001b[0m \u001b[0;34m's'\u001b[0m\u001b[0;34m:\u001b[0m\u001b[0;34m\u001b[0m\u001b[0;34m\u001b[0m\u001b[0m\n\u001b[1;32m     18\u001b[0m             \u001b[0;32mbreak\u001b[0m \u001b[0;31m# Break out of the player input loop.\u001b[0m\u001b[0;34m\u001b[0m\u001b[0;34m\u001b[0m\u001b[0m\n",
      "\u001b[0;31mSystemExit\u001b[0m: "
     ]
    }
   ],
   "source": [
    "%tb"
   ]
  },
  {
   "cell_type": "code",
   "execution_count": null,
   "metadata": {},
   "outputs": [],
   "source": []
  }
 ],
 "metadata": {
  "kernelspec": {
   "display_name": "Python 3",
   "language": "python",
   "name": "python3"
  },
  "language_info": {
   "codemirror_mode": {
    "name": "ipython",
    "version": 3
   },
   "file_extension": ".py",
   "mimetype": "text/x-python",
   "name": "python",
   "nbconvert_exporter": "python",
   "pygments_lexer": "ipython3",
   "version": "3.7.6"
  }
 },
 "nbformat": 4,
 "nbformat_minor": 4
}
