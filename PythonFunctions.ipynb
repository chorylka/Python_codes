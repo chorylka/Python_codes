{
 "cells": [
  {
   "cell_type": "code",
   "execution_count": 2,
   "metadata": {},
   "outputs": [],
   "source": [
    "#this is an example of a simple function which runs the three prints\n",
    "def hello():\n",
    "    print('Howdy!')\n",
    "    print('You are such a moron!')\n",
    "    print('This is a bloody function')"
   ]
  },
  {
   "cell_type": "code",
   "execution_count": 3,
   "metadata": {},
   "outputs": [
    {
     "name": "stdout",
     "output_type": "stream",
     "text": [
      "Howdy!\n",
      "You are such a moron!\n",
      "This is a bloody function\n"
     ]
    }
   ],
   "source": [
    "hello()"
   ]
  },
  {
   "cell_type": "code",
   "execution_count": 4,
   "metadata": {},
   "outputs": [
    {
     "name": "stdout",
     "output_type": "stream",
     "text": [
      "Howdy!\n",
      "You are such a moron!\n",
      "This is a bloody function\n"
     ]
    }
   ],
   "source": [
    "hello()"
   ]
  },
  {
   "cell_type": "code",
   "execution_count": 11,
   "metadata": {},
   "outputs": [],
   "source": [
    "#this one is pretty much the same as above but\n",
    "#now we're passing a parameter called name\n",
    "\n",
    "def hello(name):\n",
    "    print('Howdy! ' + name)\n",
    "    print('You are such a moron!')\n",
    "    print('This is a bloody function ...')"
   ]
  },
  {
   "cell_type": "code",
   "execution_count": 12,
   "metadata": {},
   "outputs": [
    {
     "name": "stdout",
     "output_type": "stream",
     "text": [
      "Howdy! Stella\n",
      "You are such a moron!\n",
      "This is a bloody function ...\n"
     ]
    }
   ],
   "source": [
    "hello('Stella')"
   ]
  },
  {
   "cell_type": "code",
   "execution_count": 13,
   "metadata": {},
   "outputs": [
    {
     "data": {
      "text/plain": [
       "2"
      ]
     },
     "execution_count": 13,
     "metadata": {},
     "output_type": "execute_result"
    }
   ],
   "source": [
    "#running a built in function\n",
    "import random #here we are importing the random function\n",
    "random.randint(1,10) #and here we called the random"
   ]
  },
  {
   "cell_type": "code",
   "execution_count": 14,
   "metadata": {},
   "outputs": [
    {
     "data": {
      "text/plain": [
       "10"
      ]
     },
     "execution_count": 14,
     "metadata": {},
     "output_type": "execute_result"
    }
   ],
   "source": [
    "random.randint(1,10)"
   ]
  },
  {
   "cell_type": "code",
   "execution_count": 15,
   "metadata": {},
   "outputs": [
    {
     "data": {
      "text/plain": [
       "3"
      ]
     },
     "execution_count": 15,
     "metadata": {},
     "output_type": "execute_result"
    }
   ],
   "source": [
    "random.randint(1,100)"
   ]
  },
  {
   "cell_type": "code",
   "execution_count": 22,
   "metadata": {},
   "outputs": [
    {
     "name": "stdout",
     "output_type": "stream",
     "text": [
      "7\n",
      "2\n",
      "6\n",
      "10\n",
      "5\n",
      "10\n",
      "6\n",
      "6\n",
      "8\n",
      "5\n"
     ]
    }
   ],
   "source": [
    "#generating 10 random numbers using the built in function random.randit\n",
    "for i in range (0,10):\n",
    "    num = random.randint(1,10)\n",
    "    print(num)\n",
    "    \n",
    "    "
   ]
  },
  {
   "cell_type": "code",
   "execution_count": 35,
   "metadata": {},
   "outputs": [
    {
     "name": "stdout",
     "output_type": "stream",
     "text": [
      "Very doubtful\n"
     ]
    }
   ],
   "source": [
    "#magic fortune 8 ball\n",
    "import random\n",
    "def getAnswer(answerNumber):\n",
    "        if answerNumber == 1:\n",
    "            return 'It is certain'\n",
    "        elif answerNumber == 2:\n",
    "            return 'It is decidedly so'\n",
    "        elif answerNumber == 3:\n",
    "            return 'Yes'\n",
    "        elif answerNumber == 4:\n",
    "            return 'Reply hazy try again'\n",
    "        elif answerNumber == 5:\n",
    "            return 'Ask again later'\n",
    "        elif answerNumber == 6:\n",
    "            return 'Concentrate and ask again'\n",
    "        elif answerNumber == 7:\n",
    "            return 'My reply is no'\n",
    "        elif answerNumber == 8:\n",
    "            return 'Outlook not so good'\n",
    "        elif answerNumber == 9:\n",
    "            return 'Very doubtful'\n",
    "\n",
    "#r = random.randint(1, 9)\n",
    "#fortune = getAnswer(r)\n",
    "#print(fortune)\n",
    "print(getAnswer(random.randint(1, 9))) #this line is a shorten version of the three lines above"
   ]
  },
  {
   "cell_type": "code",
   "execution_count": 36,
   "metadata": {},
   "outputs": [
    {
     "name": "stdout",
     "output_type": "stream",
     "text": [
      "hello\n"
     ]
    },
    {
     "data": {
      "text/plain": [
       "True"
      ]
     },
     "execution_count": 36,
     "metadata": {},
     "output_type": "execute_result"
    }
   ],
   "source": [
    "spam = print('hello')\n",
    "None == spam\n",
    "#Python adds return None to the end of any function definition with no return statement. "
   ]
  },
  {
   "cell_type": "code",
   "execution_count": 37,
   "metadata": {},
   "outputs": [
    {
     "name": "stdout",
     "output_type": "stream",
     "text": [
      "hello\n",
      "world\n"
     ]
    }
   ],
   "source": [
    "print('hello') #in here print function adds a new line character to the end of the string\n",
    "print('world')"
   ]
  },
  {
   "cell_type": "code",
   "execution_count": 38,
   "metadata": {},
   "outputs": [
    {
     "name": "stdout",
     "output_type": "stream",
     "text": [
      "helloworld\n"
     ]
    }
   ],
   "source": [
    "print('hello', end='')\n",
    "#in here, using the end parameter only a blank string is printed, there's no new line\n",
    "print('world')\n",
    "#this is useful to disable a new line added everytime print function is called"
   ]
  },
  {
   "cell_type": "code",
   "execution_count": 39,
   "metadata": {},
   "outputs": [
    {
     "name": "stdout",
     "output_type": "stream",
     "text": [
      "cats dogs mice\n"
     ]
    }
   ],
   "source": [
    "print('cats', 'dogs', 'mice')"
   ]
  },
  {
   "cell_type": "code",
   "execution_count": 40,
   "metadata": {},
   "outputs": [
    {
     "name": "stdout",
     "output_type": "stream",
     "text": [
      "cats|dogs|mice\n"
     ]
    }
   ],
   "source": [
    "print('cats', 'dogs', 'mice', sep='|')\n",
    "#using the param sep it's included a '|' between each string "
   ]
  },
  {
   "cell_type": "code",
   "execution_count": 41,
   "metadata": {},
   "outputs": [
    {
     "name": "stdout",
     "output_type": "stream",
     "text": [
      "42\n",
      "42\n"
     ]
    }
   ],
   "source": [
    "#global variables can be read from a local scope\n",
    "\n",
    "def spam():\n",
    "    print(eggs)\n",
    "eggs = 42 #eggs is a global variable\n",
    "spam() #called the function spam using eggs, so using the global value of eggs\n",
    "print(eggs) This #simply printed the value of eggs\n",
    "#avoid using the same variable name in different scopes. Always!!!"
   ]
  },
  {
   "cell_type": "code",
   "execution_count": 42,
   "metadata": {},
   "outputs": [
    {
     "name": "stdout",
     "output_type": "stream",
     "text": [
      "spam\n"
     ]
    }
   ],
   "source": [
    "def spam():\n",
    "    global eggs\n",
    "    eggs = 'spam'  #this is a global variable\n",
    "    \n",
    "def bacon():\n",
    "    eggs = 'bacon'  #this is a local variable\n",
    "    \n",
    "def ham():\n",
    "    print(eggs) #this is calling a global variable called eggs\n",
    "    \n",
    "eggs = 42 #this is a global variable\n",
    "spam()  #called function spam using global variable eggs\n",
    "print(eggs) #printed eggs with new value assigned by the function"
   ]
  },
  {
   "cell_type": "code",
   "execution_count": 43,
   "metadata": {},
   "outputs": [],
   "source": [
    "bacon()"
   ]
  },
  {
   "cell_type": "code",
   "execution_count": 44,
   "metadata": {},
   "outputs": [
    {
     "name": "stdout",
     "output_type": "stream",
     "text": [
      "spam\n"
     ]
    }
   ],
   "source": [
    "ham() #called fuction ham using new globally assigned value in function spam()"
   ]
  },
  {
   "cell_type": "code",
   "execution_count": 47,
   "metadata": {},
   "outputs": [
    {
     "name": "stdout",
     "output_type": "stream",
     "text": [
      "21.0\n",
      "3.5\n",
      "Sorry cannot divide by 0\n",
      "None\n",
      "42.0\n",
      "4.2\n"
     ]
    }
   ],
   "source": [
    "#here it's how we do exception handling \n",
    "\n",
    "def spam(divBy):\n",
    "    try:\n",
    "        return 42/ divBy\n",
    "    except ZeroDivisionError:   #here I included an except error handling for any division by zero try\n",
    "        print('Sorry cannot divide by 0') #and return a None value\n",
    "\n",
    "print(spam(2))\n",
    "print(spam(12))\n",
    "print(spam(0))\n",
    "print(spam(1))\n",
    "print(spam(10))"
   ]
  },
  {
   "cell_type": "code",
   "execution_count": null,
   "metadata": {},
   "outputs": [],
   "source": []
  }
 ],
 "metadata": {
  "kernelspec": {
   "display_name": "Python 3",
   "language": "python",
   "name": "python3"
  },
  "language_info": {
   "codemirror_mode": {
    "name": "ipython",
    "version": 3
   },
   "file_extension": ".py",
   "mimetype": "text/x-python",
   "name": "python",
   "nbconvert_exporter": "python",
   "pygments_lexer": "ipython3",
   "version": "3.7.6"
  }
 },
 "nbformat": 4,
 "nbformat_minor": 4
}
