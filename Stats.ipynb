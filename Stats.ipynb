{
 "cells": [
  {
   "cell_type": "code",
   "execution_count": 20,
   "metadata": {},
   "outputs": [
    {
     "name": "stdout",
     "output_type": "stream",
     "text": [
      "            Data     Tempo  Grupo1  Grupo2  Grupo3  Unnamed: 5 Unnamed: 6  \\\n",
      "0     2019-11-24  00:00:00       0       2       0         NaN        NaN   \n",
      "1     2019-11-24  00:01:00       0       1       0         NaN        NaN   \n",
      "2     2019-11-24  00:02:00       0       2       0         NaN        NaN   \n",
      "3     2019-11-24  00:03:00       0       1       0         NaN        NaN   \n",
      "4     2019-11-24  00:04:00       0       1       0         NaN        NaN   \n",
      "...          ...       ...     ...     ...     ...         ...        ...   \n",
      "2875  2019-11-25  23:55:00       0       1       0         NaN        NaN   \n",
      "2876  2019-11-25  23:56:00       0       1       0         NaN        NaN   \n",
      "2877  2019-11-25  23:57:00       0       2       0         NaN        NaN   \n",
      "2878  2019-11-25  23:58:00       0       1       0         NaN        NaN   \n",
      "2879  2019-11-25  23:59:00       0       1       0         NaN        NaN   \n",
      "\n",
      "      Unnamed: 7  Unnamed: 8  Unnamed: 9  Unnamed: 10  Unnamed: 11  \n",
      "0            NaN         NaN         NaN          NaN          NaN  \n",
      "1            NaN         NaN         NaN          NaN          NaN  \n",
      "2            NaN         NaN         NaN          NaN          NaN  \n",
      "3            NaN         NaN         NaN          NaN          NaN  \n",
      "4            NaN         NaN         NaN          NaN          NaN  \n",
      "...          ...         ...         ...          ...          ...  \n",
      "2875         NaN         NaN         NaN          NaN          NaN  \n",
      "2876         NaN         NaN         NaN          NaN          NaN  \n",
      "2877         NaN         NaN         NaN          NaN          NaN  \n",
      "2878         NaN         NaN         NaN          NaN          NaN  \n",
      "2879         NaN         NaN         NaN          NaN          NaN  \n",
      "\n",
      "[2880 rows x 12 columns]\n"
     ]
    }
   ],
   "source": [
    "import pandas as pd\n",
    "df = pd.read_excel (r'consumo_energia.xlsx')\n",
    "print (df)"
   ]
  },
  {
   "cell_type": "code",
   "execution_count": 4,
   "metadata": {},
   "outputs": [
    {
     "data": {
      "text/html": [
       "<div>\n",
       "<style scoped>\n",
       "    .dataframe tbody tr th:only-of-type {\n",
       "        vertical-align: middle;\n",
       "    }\n",
       "\n",
       "    .dataframe tbody tr th {\n",
       "        vertical-align: top;\n",
       "    }\n",
       "\n",
       "    .dataframe thead th {\n",
       "        text-align: right;\n",
       "    }\n",
       "</style>\n",
       "<table border=\"1\" class=\"dataframe\">\n",
       "  <thead>\n",
       "    <tr style=\"text-align: right;\">\n",
       "      <th></th>\n",
       "      <th>Grupo1</th>\n",
       "      <th>Grupo2</th>\n",
       "      <th>Grupo3</th>\n",
       "      <th>Unnamed: 5</th>\n",
       "      <th>Unnamed: 7</th>\n",
       "      <th>Unnamed: 8</th>\n",
       "      <th>Unnamed: 9</th>\n",
       "      <th>Unnamed: 10</th>\n",
       "      <th>Unnamed: 11</th>\n",
       "    </tr>\n",
       "  </thead>\n",
       "  <tbody>\n",
       "    <tr>\n",
       "      <th>count</th>\n",
       "      <td>2880.000000</td>\n",
       "      <td>2880.000000</td>\n",
       "      <td>2880.000000</td>\n",
       "      <td>0.0</td>\n",
       "      <td>0.0</td>\n",
       "      <td>0.0</td>\n",
       "      <td>0.0</td>\n",
       "      <td>0.0</td>\n",
       "      <td>0.0</td>\n",
       "    </tr>\n",
       "    <tr>\n",
       "      <th>mean</th>\n",
       "      <td>0.754167</td>\n",
       "      <td>1.136806</td>\n",
       "      <td>6.005556</td>\n",
       "      <td>NaN</td>\n",
       "      <td>NaN</td>\n",
       "      <td>NaN</td>\n",
       "      <td>NaN</td>\n",
       "      <td>NaN</td>\n",
       "      <td>NaN</td>\n",
       "    </tr>\n",
       "    <tr>\n",
       "      <th>std</th>\n",
       "      <td>4.909955</td>\n",
       "      <td>5.166895</td>\n",
       "      <td>8.329776</td>\n",
       "      <td>NaN</td>\n",
       "      <td>NaN</td>\n",
       "      <td>NaN</td>\n",
       "      <td>NaN</td>\n",
       "      <td>NaN</td>\n",
       "      <td>NaN</td>\n",
       "    </tr>\n",
       "    <tr>\n",
       "      <th>min</th>\n",
       "      <td>0.000000</td>\n",
       "      <td>0.000000</td>\n",
       "      <td>0.000000</td>\n",
       "      <td>NaN</td>\n",
       "      <td>NaN</td>\n",
       "      <td>NaN</td>\n",
       "      <td>NaN</td>\n",
       "      <td>NaN</td>\n",
       "      <td>NaN</td>\n",
       "    </tr>\n",
       "    <tr>\n",
       "      <th>25%</th>\n",
       "      <td>0.000000</td>\n",
       "      <td>0.000000</td>\n",
       "      <td>0.000000</td>\n",
       "      <td>NaN</td>\n",
       "      <td>NaN</td>\n",
       "      <td>NaN</td>\n",
       "      <td>NaN</td>\n",
       "      <td>NaN</td>\n",
       "      <td>NaN</td>\n",
       "    </tr>\n",
       "    <tr>\n",
       "      <th>50%</th>\n",
       "      <td>0.000000</td>\n",
       "      <td>0.000000</td>\n",
       "      <td>0.000000</td>\n",
       "      <td>NaN</td>\n",
       "      <td>NaN</td>\n",
       "      <td>NaN</td>\n",
       "      <td>NaN</td>\n",
       "      <td>NaN</td>\n",
       "      <td>NaN</td>\n",
       "    </tr>\n",
       "    <tr>\n",
       "      <th>75%</th>\n",
       "      <td>0.000000</td>\n",
       "      <td>1.000000</td>\n",
       "      <td>17.000000</td>\n",
       "      <td>NaN</td>\n",
       "      <td>NaN</td>\n",
       "      <td>NaN</td>\n",
       "      <td>NaN</td>\n",
       "      <td>NaN</td>\n",
       "      <td>NaN</td>\n",
       "    </tr>\n",
       "    <tr>\n",
       "      <th>max</th>\n",
       "      <td>38.000000</td>\n",
       "      <td>40.000000</td>\n",
       "      <td>19.000000</td>\n",
       "      <td>NaN</td>\n",
       "      <td>NaN</td>\n",
       "      <td>NaN</td>\n",
       "      <td>NaN</td>\n",
       "      <td>NaN</td>\n",
       "      <td>NaN</td>\n",
       "    </tr>\n",
       "  </tbody>\n",
       "</table>\n",
       "</div>"
      ],
      "text/plain": [
       "            Grupo1       Grupo2       Grupo3  Unnamed: 5  Unnamed: 7  \\\n",
       "count  2880.000000  2880.000000  2880.000000         0.0         0.0   \n",
       "mean      0.754167     1.136806     6.005556         NaN         NaN   \n",
       "std       4.909955     5.166895     8.329776         NaN         NaN   \n",
       "min       0.000000     0.000000     0.000000         NaN         NaN   \n",
       "25%       0.000000     0.000000     0.000000         NaN         NaN   \n",
       "50%       0.000000     0.000000     0.000000         NaN         NaN   \n",
       "75%       0.000000     1.000000    17.000000         NaN         NaN   \n",
       "max      38.000000    40.000000    19.000000         NaN         NaN   \n",
       "\n",
       "       Unnamed: 8  Unnamed: 9  Unnamed: 10  Unnamed: 11  \n",
       "count         0.0         0.0          0.0          0.0  \n",
       "mean          NaN         NaN          NaN          NaN  \n",
       "std           NaN         NaN          NaN          NaN  \n",
       "min           NaN         NaN          NaN          NaN  \n",
       "25%           NaN         NaN          NaN          NaN  \n",
       "50%           NaN         NaN          NaN          NaN  \n",
       "75%           NaN         NaN          NaN          NaN  \n",
       "max           NaN         NaN          NaN          NaN  "
      ]
     },
     "execution_count": 4,
     "metadata": {},
     "output_type": "execute_result"
    }
   ],
   "source": [
    "df.describe() #describe gives the stats for the df\n"
   ]
  },
  {
   "cell_type": "code",
   "execution_count": 7,
   "metadata": {},
   "outputs": [
    {
     "data": {
      "text/plain": [
       "0.25     0.0\n",
       "0.50     0.0\n",
       "0.75     0.0\n",
       "1.00    38.0\n",
       "Name: Grupo1, dtype: float64"
      ]
     },
     "execution_count": 7,
     "metadata": {},
     "output_type": "execute_result"
    }
   ],
   "source": [
    "df.Grupo1.quantile([0.25, 0.5, 0.75, 1]) # showing the quartiles"
   ]
  },
  {
   "cell_type": "code",
   "execution_count": 8,
   "metadata": {},
   "outputs": [
    {
     "data": {
      "text/plain": [
       "0.25     0.0\n",
       "0.50     0.0\n",
       "0.75     1.0\n",
       "1.00    40.0\n",
       "Name: Grupo2, dtype: float64"
      ]
     },
     "execution_count": 8,
     "metadata": {},
     "output_type": "execute_result"
    }
   ],
   "source": [
    "df.Grupo2.quantile([0.25, 0.5, 0.75, 1])"
   ]
  },
  {
   "cell_type": "code",
   "execution_count": 9,
   "metadata": {},
   "outputs": [
    {
     "data": {
      "text/plain": [
       "0.25     0.0\n",
       "0.50     0.0\n",
       "0.75    17.0\n",
       "1.00    19.0\n",
       "Name: Grupo3, dtype: float64"
      ]
     },
     "execution_count": 9,
     "metadata": {},
     "output_type": "execute_result"
    }
   ],
   "source": [
    "df.Grupo3.quantile([0.25, 0.5, 0.75, 1])"
   ]
  },
  {
   "cell_type": "code",
   "execution_count": 23,
   "metadata": {},
   "outputs": [
    {
     "name": "stdout",
     "output_type": "stream",
     "text": [
      "mean: 0.7541666666666667\n",
      "std deviation: 4.909955082212348\n",
      "mode: 0    0\n",
      "dtype: int64\n",
      "mean: 1.1368055555555556\n",
      "std deviation: 5.1668950021815805\n",
      "mode: 0    0\n",
      "dtype: int64\n",
      "mean: 6.0055555555555555\n",
      "std deviation: 8.32977624673286\n",
      "mode: 0    0\n",
      "dtype: int64\n"
     ]
    }
   ],
   "source": [
    "import numpy as np   #showing descriptive stats measures\n",
    "mean = df.Grupo1.mean()\n",
    "stddev = df.Grupo1.std()\n",
    "mode = df.Grupo1.mode()\n",
    "print('mean:', mean)\n",
    "print('std deviation:', stddev)\n",
    "print('mode:', mode)\n",
    "\n",
    "# do Grupo2:\n",
    "\n",
    "mean2 = df.Grupo2.mean()\n",
    "stddev2 = df.Grupo2.std()\n",
    "mode2 = df.Grupo2.mode()\n",
    "print('mean:', mean2)\n",
    "print('std deviation:', stddev2)\n",
    "print('mode:', mode2)\n",
    "\n",
    "# do Grupo3:\n",
    "\n",
    "mean3 = df.Grupo3.mean()\n",
    "stddev3 = df.Grupo3.std()\n",
    "mode3 = df.Grupo1.mode()\n",
    "print('mean:', mean3)\n",
    "print('std deviation:', stddev3)\n",
    "print('mode:', mode3)\n"
   ]
  },
  {
   "cell_type": "code",
   "execution_count": 25,
   "metadata": {},
   "outputs": [
    {
     "name": "stdout",
     "output_type": "stream",
     "text": [
      "cv1 = 6.5104376780716215\n",
      "cv2 = 4.545100063006399\n",
      "cv3 = 1.3870117709638436\n"
     ]
    }
   ],
   "source": [
    "#cálculos dos coeficientes de variação\n",
    "\n",
    "cv1 = stddev/mean\n",
    "print('cv1 =', cv1)\n",
    "cv1 = stddev2/mean2\n",
    "print('cv2 =', cv1)\n",
    "cv1 = stddev3/mean3\n",
    "print('cv3 =', cv1)\n"
   ]
  },
  {
   "cell_type": "code",
   "execution_count": 13,
   "metadata": {},
   "outputs": [],
   "source": [
    "# este é apenas um modelo de exercício\n",
    "# a vigilância sanitária mediu 10 bifes de um restaurante vendidos como bifes de 200g\n",
    "\n",
    "bifes = [170, 175, 180, 185, 190, 195, 200, 200, 200, 205]"
   ]
  },
  {
   "cell_type": "code",
   "execution_count": 14,
   "metadata": {},
   "outputs": [
    {
     "name": "stdout",
     "output_type": "stream",
     "text": [
      "[170, 175, 180, 185, 190, 195, 200, 200, 200, 205]\n"
     ]
    }
   ],
   "source": [
    "print(bifes) #pesos dos bifes guardados em uma lista"
   ]
  },
  {
   "cell_type": "code",
   "execution_count": 16,
   "metadata": {},
   "outputs": [],
   "source": [
    "df1 = pd.DataFrame(bifes) #transformando a lista em um data frame"
   ]
  },
  {
   "cell_type": "code",
   "execution_count": 17,
   "metadata": {},
   "outputs": [
    {
     "name": "stdout",
     "output_type": "stream",
     "text": [
      "     0\n",
      "0  170\n",
      "1  175\n",
      "2  180\n",
      "3  185\n",
      "4  190\n",
      "5  195\n",
      "6  200\n",
      "7  200\n",
      "8  200\n",
      "9  205\n"
     ]
    }
   ],
   "source": [
    "print(df1)"
   ]
  },
  {
   "cell_type": "code",
   "execution_count": 18,
   "metadata": {},
   "outputs": [
    {
     "data": {
      "text/html": [
       "<div>\n",
       "<style scoped>\n",
       "    .dataframe tbody tr th:only-of-type {\n",
       "        vertical-align: middle;\n",
       "    }\n",
       "\n",
       "    .dataframe tbody tr th {\n",
       "        vertical-align: top;\n",
       "    }\n",
       "\n",
       "    .dataframe thead th {\n",
       "        text-align: right;\n",
       "    }\n",
       "</style>\n",
       "<table border=\"1\" class=\"dataframe\">\n",
       "  <thead>\n",
       "    <tr style=\"text-align: right;\">\n",
       "      <th></th>\n",
       "      <th>0</th>\n",
       "    </tr>\n",
       "  </thead>\n",
       "  <tbody>\n",
       "    <tr>\n",
       "      <th>count</th>\n",
       "      <td>10.000000</td>\n",
       "    </tr>\n",
       "    <tr>\n",
       "      <th>mean</th>\n",
       "      <td>190.000000</td>\n",
       "    </tr>\n",
       "    <tr>\n",
       "      <th>std</th>\n",
       "      <td>12.018504</td>\n",
       "    </tr>\n",
       "    <tr>\n",
       "      <th>min</th>\n",
       "      <td>170.000000</td>\n",
       "    </tr>\n",
       "    <tr>\n",
       "      <th>25%</th>\n",
       "      <td>181.250000</td>\n",
       "    </tr>\n",
       "    <tr>\n",
       "      <th>50%</th>\n",
       "      <td>192.500000</td>\n",
       "    </tr>\n",
       "    <tr>\n",
       "      <th>75%</th>\n",
       "      <td>200.000000</td>\n",
       "    </tr>\n",
       "    <tr>\n",
       "      <th>max</th>\n",
       "      <td>205.000000</td>\n",
       "    </tr>\n",
       "  </tbody>\n",
       "</table>\n",
       "</div>"
      ],
      "text/plain": [
       "                0\n",
       "count   10.000000\n",
       "mean   190.000000\n",
       "std     12.018504\n",
       "min    170.000000\n",
       "25%    181.250000\n",
       "50%    192.500000\n",
       "75%    200.000000\n",
       "max    205.000000"
      ]
     },
     "execution_count": 18,
     "metadata": {},
     "output_type": "execute_result"
    }
   ],
   "source": [
    "df1.describe() # fazendo os cálculos estatísticos do df"
   ]
  },
  {
   "cell_type": "code",
   "execution_count": 19,
   "metadata": {},
   "outputs": [],
   "source": [
    "#achados:\n",
    "#1 a média de peso dos bifes é de 190g, assim a maioria dos clientes estão sendo lesados;\n",
    "#2 o desvio padrão é de 12g assim a qualidade dos cortes está ruim;\n",
    "#3 apenas 30% dos bifes está cortado no padrão\n"
   ]
  },
  {
   "cell_type": "code",
   "execution_count": null,
   "metadata": {},
   "outputs": [],
   "source": []
  }
 ],
 "metadata": {
  "kernelspec": {
   "display_name": "Python 3",
   "language": "python",
   "name": "python3"
  },
  "language_info": {
   "codemirror_mode": {
    "name": "ipython",
    "version": 3
   },
   "file_extension": ".py",
   "mimetype": "text/x-python",
   "name": "python",
   "nbconvert_exporter": "python",
   "pygments_lexer": "ipython3",
   "version": "3.7.6"
  }
 },
 "nbformat": 4,
 "nbformat_minor": 4
}
