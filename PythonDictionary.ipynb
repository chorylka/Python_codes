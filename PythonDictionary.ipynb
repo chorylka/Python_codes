{
 "cells": [
  {
   "cell_type": "code",
   "execution_count": 1,
   "metadata": {},
   "outputs": [],
   "source": [
    "#some examples of dictionaries now\n",
    "#this is an example of a dictionary\n",
    "\n",
    "myCat = {'size': 'fat', 'color': 'gray', 'disposition': 'loud'}"
   ]
  },
  {
   "cell_type": "code",
   "execution_count": 2,
   "metadata": {},
   "outputs": [
    {
     "data": {
      "text/plain": [
       "'fat'"
      ]
     },
     "execution_count": 2,
     "metadata": {},
     "output_type": "execute_result"
    }
   ],
   "source": [
    "myCat['size']"
   ]
  },
  {
   "cell_type": "code",
   "execution_count": 3,
   "metadata": {},
   "outputs": [
    {
     "data": {
      "text/plain": [
       "['size', 'color', 'disposition']"
      ]
     },
     "execution_count": 3,
     "metadata": {},
     "output_type": "execute_result"
    }
   ],
   "source": [
    "#size, color and disposition are called keys\n",
    "#fat, gray and loud are called values\n",
    "\n",
    "#three methods can be used in dictionaries:\n",
    "\n",
    "list(myCat.keys()) #returns the dictionary keys\n",
    "\n"
   ]
  },
  {
   "cell_type": "code",
   "execution_count": 5,
   "metadata": {},
   "outputs": [
    {
     "data": {
      "text/plain": [
       "['fat', 'gray', 'loud']"
      ]
     },
     "execution_count": 5,
     "metadata": {},
     "output_type": "execute_result"
    }
   ],
   "source": [
    "list(myCat.values()) #returns the dictionary values"
   ]
  },
  {
   "cell_type": "code",
   "execution_count": 6,
   "metadata": {},
   "outputs": [
    {
     "data": {
      "text/plain": [
       "[('size', 'fat'), ('color', 'gray'), ('disposition', 'loud')]"
      ]
     },
     "execution_count": 6,
     "metadata": {},
     "output_type": "execute_result"
    }
   ],
   "source": [
    "list(myCat.items()) #returns the dictionary items"
   ]
  },
  {
   "cell_type": "code",
   "execution_count": 8,
   "metadata": {},
   "outputs": [
    {
     "name": "stdout",
     "output_type": "stream",
     "text": [
      "size\n",
      "color\n",
      "disposition\n"
     ]
    }
   ],
   "source": [
    "#this methods can be used in loops as follows:\n",
    "\n",
    "for k in myCat.keys():\n",
    "    print(k)"
   ]
  },
  {
   "cell_type": "code",
   "execution_count": 9,
   "metadata": {},
   "outputs": [
    {
     "name": "stdout",
     "output_type": "stream",
     "text": [
      "fat\n",
      "gray\n",
      "loud\n"
     ]
    }
   ],
   "source": [
    "for y in myCat.values():\n",
    "    print(y)"
   ]
  },
  {
   "cell_type": "code",
   "execution_count": 10,
   "metadata": {},
   "outputs": [
    {
     "name": "stdout",
     "output_type": "stream",
     "text": [
      "('size', 'fat')\n",
      "('color', 'gray')\n",
      "('disposition', 'loud')\n"
     ]
    }
   ],
   "source": [
    "for w in myCat.items():\n",
    "    print(w)"
   ]
  },
  {
   "cell_type": "code",
   "execution_count": 11,
   "metadata": {},
   "outputs": [
    {
     "data": {
      "text/plain": [
       "True"
      ]
     },
     "execution_count": 11,
     "metadata": {},
     "output_type": "execute_result"
    }
   ],
   "source": [
    "#you can also check if a value exists in a dictionary as follows:\n",
    "\n",
    "'fat' in myCat.values()"
   ]
  },
  {
   "cell_type": "code",
   "execution_count": 13,
   "metadata": {},
   "outputs": [
    {
     "data": {
      "text/plain": [
       "{'size': 'fat', 'color': 'gray', 'disposition': 'loud'}"
      ]
     },
     "execution_count": 13,
     "metadata": {},
     "output_type": "execute_result"
    }
   ],
   "source": [
    "#True means fat was found in the dictionary ... \n",
    "#now let's have a look at the get method as follows:\n",
    "\n",
    "myCat\n"
   ]
  },
  {
   "cell_type": "code",
   "execution_count": 14,
   "metadata": {},
   "outputs": [
    {
     "data": {
      "text/plain": [
       "'gray'"
      ]
     },
     "execution_count": 14,
     "metadata": {},
     "output_type": "execute_result"
    }
   ],
   "source": [
    "myCat.get('color') #returns the value for the key in case the key is in the dictionary"
   ]
  },
  {
   "cell_type": "code",
   "execution_count": 16,
   "metadata": {},
   "outputs": [
    {
     "data": {
      "text/plain": [
       "''"
      ]
     },
     "execution_count": 16,
     "metadata": {},
     "output_type": "execute_result"
    }
   ],
   "source": [
    "myCat.get('age', '') #in this case once there's no age key in the dictionary it will return the default value which is ''"
   ]
  },
  {
   "cell_type": "code",
   "execution_count": 21,
   "metadata": {},
   "outputs": [
    {
     "name": "stdout",
     "output_type": "stream",
     "text": [
      "How many napkins were brought to the picnic?\n",
      "I am bringing 0 to the picnic\n"
     ]
    }
   ],
   "source": [
    "#one more example, using a new dictionary:\n",
    "\n",
    "picnicItems = {'apples': 5, 'cups': 2}\n",
    "print('How many napkins were brought to the picnic?')\n",
    "print('I am bringing ' + str(picnicItems.get('napkins',0)) + ' to the picnic')\n",
    "\n",
    "#on this example we're looking for how many napkins were found in the dictionary"
   ]
  },
  {
   "cell_type": "code",
   "execution_count": 22,
   "metadata": {},
   "outputs": [],
   "source": [
    "myDog = {'name': 'Carly', 'breed': 'schnauzer', 'age': '8'}"
   ]
  },
  {
   "cell_type": "code",
   "execution_count": 23,
   "metadata": {},
   "outputs": [
    {
     "data": {
      "text/plain": [
       "{'name': 'Carly', 'breed': 'schnauzer', 'age': '8'}"
      ]
     },
     "execution_count": 23,
     "metadata": {},
     "output_type": "execute_result"
    }
   ],
   "source": [
    "myDog"
   ]
  },
  {
   "cell_type": "code",
   "execution_count": 24,
   "metadata": {},
   "outputs": [
    {
     "data": {
      "text/plain": [
       "'black'"
      ]
     },
     "execution_count": 24,
     "metadata": {},
     "output_type": "execute_result"
    }
   ],
   "source": [
    "myDog.setdefault('color', 'black') #set default the key color and value black once they're not found on the dictionary"
   ]
  },
  {
   "cell_type": "code",
   "execution_count": 25,
   "metadata": {},
   "outputs": [
    {
     "data": {
      "text/plain": [
       "{'name': 'Carly', 'breed': 'schnauzer', 'age': '8', 'color': 'black'}"
      ]
     },
     "execution_count": 25,
     "metadata": {},
     "output_type": "execute_result"
    }
   ],
   "source": [
    "myDog"
   ]
  },
  {
   "cell_type": "code",
   "execution_count": 26,
   "metadata": {},
   "outputs": [
    {
     "name": "stdout",
     "output_type": "stream",
     "text": [
      "{'I': 4, 'F': 1, ' ': 14, 'Y': 2, 'O': 6, 'U': 2, 'W': 3, 'A': 4, 'N': 7, 'T': 6, 'C': 1, 'H': 3, 'G': 3, 'E': 4, 'R': 4, 'L': 1, 'D': 2, ',': 1, 'S': 1, 'M': 2, 'K': 1, 'B': 1}\n"
     ]
    }
   ],
   "source": [
    "#now let's work on a character count program ...\n",
    "\n",
    "message = 'If you want to change the world, start making your own bed in the morning'\n",
    "count = {}\n",
    "\n",
    "for character in message.upper():\n",
    "    count.setdefault(character, 0)\n",
    "    count[character] = count[character] + 1\n",
    "print(count)    "
   ]
  },
  {
   "cell_type": "code",
   "execution_count": 28,
   "metadata": {},
   "outputs": [
    {
     "name": "stdout",
     "output_type": "stream",
     "text": [
      "{' ': 14,\n",
      " ',': 1,\n",
      " 'A': 4,\n",
      " 'B': 1,\n",
      " 'C': 1,\n",
      " 'D': 2,\n",
      " 'E': 4,\n",
      " 'F': 1,\n",
      " 'G': 3,\n",
      " 'H': 3,\n",
      " 'I': 4,\n",
      " 'K': 1,\n",
      " 'L': 1,\n",
      " 'M': 2,\n",
      " 'N': 7,\n",
      " 'O': 6,\n",
      " 'R': 4,\n",
      " 'S': 1,\n",
      " 'T': 6,\n",
      " 'U': 2,\n",
      " 'W': 3,\n",
      " 'Y': 2}\n"
     ]
    }
   ],
   "source": [
    "#making the print more elegant\n",
    "\n",
    "import pprint\n",
    "message = 'If you want to change the world, start making your own bed in the morning'\n",
    "count = {}\n",
    "\n",
    "for character in message.upper():\n",
    "    count.setdefault(character, 0)\n",
    "    count[character] = count[character] + 1\n",
    "pprint.pprint(count)   \n",
    "messageString = pprint.pformat(count) #"
   ]
  },
  {
   "cell_type": "code",
   "execution_count": null,
   "metadata": {},
   "outputs": [],
   "source": []
  }
 ],
 "metadata": {
  "kernelspec": {
   "display_name": "Python 3",
   "language": "python",
   "name": "python3"
  },
  "language_info": {
   "codemirror_mode": {
    "name": "ipython",
    "version": 3
   },
   "file_extension": ".py",
   "mimetype": "text/x-python",
   "name": "python",
   "nbconvert_exporter": "python",
   "pygments_lexer": "ipython3",
   "version": "3.7.6"
  }
 },
 "nbformat": 4,
 "nbformat_minor": 4
}
