{
 "cells": [
  {
   "cell_type": "code",
   "execution_count": 1,
   "metadata": {},
   "outputs": [
    {
     "data": {
      "text/plain": [
       "['H', 'e', 'l', 'l', 'o']"
      ]
     },
     "execution_count": 1,
     "metadata": {},
     "output_type": "execute_result"
    }
   ],
   "source": [
    "list('Hello') #this function transforms each part of the string into an element on the list\n"
   ]
  },
  {
   "cell_type": "code",
   "execution_count": 2,
   "metadata": {},
   "outputs": [
    {
     "data": {
      "text/plain": [
       "True"
      ]
     },
     "execution_count": 2,
     "metadata": {},
     "output_type": "execute_result"
    }
   ],
   "source": [
    "'howdy' in ['hi', 'hello', 'howdy', 'hola']"
   ]
  },
  {
   "cell_type": "code",
   "execution_count": 3,
   "metadata": {},
   "outputs": [
    {
     "name": "stdout",
     "output_type": "stream",
     "text": [
      "['C', 'a', 'r', 'l', 'o', 's']\n"
     ]
    }
   ],
   "source": [
    "MiniList = list('Carlos')\n",
    "print(MiniList)"
   ]
  },
  {
   "cell_type": "code",
   "execution_count": 4,
   "metadata": {},
   "outputs": [
    {
     "data": {
      "text/plain": [
       "True"
      ]
     },
     "execution_count": 4,
     "metadata": {},
     "output_type": "execute_result"
    }
   ],
   "source": [
    "'a' in MiniList #this looks for the string a into MiniList returning True if found\n",
    "#there's also an opportunity to pass the negative version of it, the \"not in\""
   ]
  },
  {
   "cell_type": "code",
   "execution_count": 5,
   "metadata": {},
   "outputs": [
    {
     "data": {
      "text/plain": [
       "False"
      ]
     },
     "execution_count": 5,
     "metadata": {},
     "output_type": "execute_result"
    }
   ],
   "source": [
    "'x' in MiniList"
   ]
  },
  {
   "cell_type": "code",
   "execution_count": 6,
   "metadata": {},
   "outputs": [
    {
     "data": {
      "text/plain": [
       "6"
      ]
     },
     "execution_count": 6,
     "metadata": {},
     "output_type": "execute_result"
    }
   ],
   "source": [
    "len(MiniList) The #returns the lenght of the list"
   ]
  },
  {
   "cell_type": "code",
   "execution_count": 7,
   "metadata": {},
   "outputs": [
    {
     "name": "stdout",
     "output_type": "stream",
     "text": [
      "0\n",
      "1\n",
      "2\n",
      "3\n"
     ]
    }
   ],
   "source": [
    "#in a for loop range object returns the size of the list as in the example:\n",
    "for i in range(4):\n",
    "    print(i)"
   ]
  },
  {
   "cell_type": "code",
   "execution_count": 11,
   "metadata": {},
   "outputs": [
    {
     "data": {
      "text/plain": [
       "[0, 1, 2, 3]"
      ]
     },
     "execution_count": 11,
     "metadata": {},
     "output_type": "execute_result"
    }
   ],
   "source": [
    "list(range(0, 4))"
   ]
  },
  {
   "cell_type": "code",
   "execution_count": 12,
   "metadata": {},
   "outputs": [
    {
     "name": "stdout",
     "output_type": "stream",
     "text": [
      "Index0 in supplies is: pens\n",
      "Index1 in supplies is: pencils\n",
      "Index2 in supplies is: eraser\n",
      "Index3 in supplies is: binders\n"
     ]
    }
   ],
   "source": [
    "#another cool example\n",
    "supplies = ['pens', 'pencils', 'eraser', 'binders']\n",
    "for i in range(len(supplies)):\n",
    "    print('Index' + str(i) + ' in supplies is: ' + supplies[i])"
   ]
  },
  {
   "cell_type": "code",
   "execution_count": 13,
   "metadata": {},
   "outputs": [],
   "source": [
    "#this would work for any list size\n",
    "#now a cool example of multiple assignment:\n",
    "\n",
    "cat = ['fat', 'orange', 'loud']\n",
    "size = cat[0]\n",
    "color = cat[1]\n",
    "disposition = cat[2]\n",
    "\n"
   ]
  },
  {
   "cell_type": "code",
   "execution_count": 14,
   "metadata": {},
   "outputs": [
    {
     "data": {
      "text/plain": [
       "'fat'"
      ]
     },
     "execution_count": 14,
     "metadata": {},
     "output_type": "execute_result"
    }
   ],
   "source": [
    "size"
   ]
  },
  {
   "cell_type": "code",
   "execution_count": 15,
   "metadata": {},
   "outputs": [],
   "source": [
    "#this can be done in a single line as follows:\n",
    "\n",
    "size, color, disposition = cat"
   ]
  },
  {
   "cell_type": "code",
   "execution_count": 16,
   "metadata": {},
   "outputs": [
    {
     "data": {
      "text/plain": [
       "'fat'"
      ]
     },
     "execution_count": 16,
     "metadata": {},
     "output_type": "execute_result"
    }
   ],
   "source": [
    "size"
   ]
  },
  {
   "cell_type": "code",
   "execution_count": 17,
   "metadata": {},
   "outputs": [
    {
     "data": {
      "text/plain": [
       "'orange'"
      ]
     },
     "execution_count": 17,
     "metadata": {},
     "output_type": "execute_result"
    }
   ],
   "source": [
    "color"
   ]
  },
  {
   "cell_type": "code",
   "execution_count": 18,
   "metadata": {},
   "outputs": [
    {
     "data": {
      "text/plain": [
       "'loud'"
      ]
     },
     "execution_count": 18,
     "metadata": {},
     "output_type": "execute_result"
    }
   ],
   "source": [
    "disposition"
   ]
  },
  {
   "cell_type": "code",
   "execution_count": 19,
   "metadata": {},
   "outputs": [
    {
     "name": "stdout",
     "output_type": "stream",
     "text": [
      "BBB\n",
      "AAA\n"
     ]
    }
   ],
   "source": [
    "#now how can we swap variables, we can do as follows:\n",
    "\n",
    "a = 'AAA'\n",
    "b = 'BBB'\n",
    "a,b = b,a #this would switch the values of A and B\n",
    "print(a)\n",
    "print(b)"
   ]
  },
  {
   "cell_type": "code",
   "execution_count": 20,
   "metadata": {},
   "outputs": [
    {
     "name": "stdout",
     "output_type": "stream",
     "text": [
      "43\n"
     ]
    }
   ],
   "source": [
    "#this is an example of augmented operator\n",
    "\n",
    "spam = 42\n",
    "spam += 1 Il #this operator increments the value of spam\n",
    "print(spam)"
   ]
  },
  {
   "cell_type": "code",
   "execution_count": 21,
   "metadata": {},
   "outputs": [
    {
     "data": {
      "text/plain": [
       "0"
      ]
     },
     "execution_count": 21,
     "metadata": {},
     "output_type": "execute_result"
    }
   ],
   "source": [
    "#those augmented operators are used as shortcuts\n",
    "\n",
    "#Now let's see some methods\n",
    "#The method index returns the position of the string in the list\n",
    "\n",
    "spam = ['hello', 'hi', 'howdy', 'heyas']\n",
    "spam.index('hello')"
   ]
  },
  {
   "cell_type": "code",
   "execution_count": 22,
   "metadata": {},
   "outputs": [
    {
     "data": {
      "text/plain": [
       "3"
      ]
     },
     "execution_count": 22,
     "metadata": {},
     "output_type": "execute_result"
    }
   ],
   "source": [
    "spam.index('heyas')"
   ]
  },
  {
   "cell_type": "code",
   "execution_count": 23,
   "metadata": {},
   "outputs": [
    {
     "ename": "ValueError",
     "evalue": "'howdyho' is not in list",
     "output_type": "error",
     "traceback": [
      "\u001b[0;31m---------------------------------------------------------------------------\u001b[0m",
      "\u001b[0;31mValueError\u001b[0m                                Traceback (most recent call last)",
      "\u001b[0;32m<ipython-input-23-28fa59325e22>\u001b[0m in \u001b[0;36m<module>\u001b[0;34m\u001b[0m\n\u001b[0;32m----> 1\u001b[0;31m \u001b[0mspam\u001b[0m\u001b[0;34m.\u001b[0m\u001b[0mindex\u001b[0m\u001b[0;34m(\u001b[0m\u001b[0;34m'howdyho'\u001b[0m\u001b[0;34m)\u001b[0m\u001b[0;34m\u001b[0m\u001b[0;34m\u001b[0m\u001b[0m\n\u001b[0m",
      "\u001b[0;31mValueError\u001b[0m: 'howdyho' is not in list"
     ]
    }
   ],
   "source": [
    "spam.index('howdyho')"
   ]
  },
  {
   "cell_type": "code",
   "execution_count": 24,
   "metadata": {},
   "outputs": [
    {
     "name": "stdout",
     "output_type": "stream",
     "text": [
      "['cat', 'dog', 'mouse', 'bat']\n"
     ]
    }
   ],
   "source": [
    "#append and insert methods are used to insert new values to the list\n",
    "#the append adds a value to the end of the list:\n",
    "\n",
    "spam = ['cat', 'dog', 'mouse']\n",
    "spam.append('bat')\n",
    "print(spam)\n"
   ]
  },
  {
   "cell_type": "code",
   "execution_count": 25,
   "metadata": {},
   "outputs": [
    {
     "name": "stdout",
     "output_type": "stream",
     "text": [
      "['cat', 'chicken', 'dog', 'mouse', 'bat']\n"
     ]
    }
   ],
   "source": [
    "spam.insert(1, 'chicken')\n",
    "#chicken is inserted into position one of the list\n",
    "print(spam)"
   ]
  },
  {
   "cell_type": "code",
   "execution_count": 26,
   "metadata": {},
   "outputs": [
    {
     "data": {
      "text/plain": [
       "'chicken'"
      ]
     },
     "execution_count": 26,
     "metadata": {},
     "output_type": "execute_result"
    }
   ],
   "source": [
    "spam[1]"
   ]
  },
  {
   "cell_type": "code",
   "execution_count": 27,
   "metadata": {},
   "outputs": [
    {
     "name": "stdout",
     "output_type": "stream",
     "text": [
      "['cat', 'chicken', 'dog', 'mouse']\n"
     ]
    }
   ],
   "source": [
    "spam.remove('bat')\n",
    "#this one removes (the first always) the value bat from the list\n",
    "print(spam)"
   ]
  },
  {
   "cell_type": "code",
   "execution_count": 29,
   "metadata": {},
   "outputs": [
    {
     "name": "stdout",
     "output_type": "stream",
     "text": [
      "['chicken', 'dog', 'mouse']\n"
     ]
    }
   ],
   "source": [
    "#if I use del I send the index as follows:\n",
    "\n",
    "del spam[0]\n",
    "\n",
    "#remove the value cat from the list\n",
    "print(spam)"
   ]
  },
  {
   "cell_type": "code",
   "execution_count": 30,
   "metadata": {},
   "outputs": [
    {
     "name": "stdout",
     "output_type": "stream",
     "text": [
      "[-7, 1, 2, 3.14, 5]\n"
     ]
    }
   ],
   "source": [
    "spam = [2, 5, 3.14, 1, -7]\n",
    "spam.sort()\n",
    "#the method sort sorts the values on the list\n",
    "print(spam)"
   ]
  },
  {
   "cell_type": "code",
   "execution_count": 32,
   "metadata": {},
   "outputs": [
    {
     "name": "stdout",
     "output_type": "stream",
     "text": [
      "['ants', 'badgers', 'cats', 'dogs', 'elephants']\n"
     ]
    }
   ],
   "source": [
    "animals = ['ants', 'cats', 'dogs', 'badgers', 'elephants']\n",
    "animals.sort()\n",
    "print(animals)"
   ]
  },
  {
   "cell_type": "code",
   "execution_count": 33,
   "metadata": {},
   "outputs": [
    {
     "name": "stdout",
     "output_type": "stream",
     "text": [
      "['elephants', 'dogs', 'cats', 'badgers', 'ants']\n"
     ]
    }
   ],
   "source": [
    "animals.sort(reverse = True)\n",
    "#passing reverse = True sort order is inverted \n",
    "print(animals)"
   ]
  },
  {
   "cell_type": "code",
   "execution_count": 34,
   "metadata": {},
   "outputs": [],
   "source": [
    "#strings are immutable in Python\n",
    "#if you want to change the value, we need to slice and write a new string\n"
   ]
  },
  {
   "cell_type": "code",
   "execution_count": 42,
   "metadata": {},
   "outputs": [
    {
     "name": "stdout",
     "output_type": "stream",
     "text": [
      "['/Users/carloshorylka/Section_4_Homework_Fill_in_the_Blanks.ipynb', '/Users/carloshorylka/covid_sjp.ipynb', '/Users/carloshorylka/Slicing.ipynb', '/Users/carloshorylka/StellaGrades.ipynb', '/Users/carloshorylka/StellaVocacional.ipynb', '/Users/carloshorylka/weight_analysis.ipynb', '/Users/carloshorylka/python_a_z_variables.ipynb', '/Users/carloshorylka/LawOfLargeNumbers.ipynb', '/Users/carloshorylka/GuessTheNumber.ipynb', '/Users/carloshorylka/Untitled.ipynb', '/Users/carloshorylka/Section_5_Homework_Fill_in_the_Blanks.ipynb', '/Users/carloshorylka/IfElifWhileFor.ipynb', '/Users/carloshorylka/FinishingTouches.ipynb', '/Users/carloshorylka/BasketballFreeThrows.ipynb', '/Users/carloshorylka/StylingDashboards.ipynb', '/Users/carloshorylka/Nba_players.ipynb', '/Users/carloshorylka/Financial_Analysis_final.ipynb', '/Users/carloshorylka/Lists.ipynb', '/Users/carloshorylka/ImportingDataFrames.ipynb', '/Users/carloshorylka/CollatzSequence.ipynb', '/Users/carloshorylka/Numpy_and_arrays.ipynb', '/Users/carloshorylka/MoviesRatingAnalytics_plots.ipynb', '/Users/carloshorylka/Functions_packages.ipynb', '/Users/carloshorylka/Python_Home_Work_Section3-Fill-The-Blanks.ipynb', '/Users/carloshorylka/PythonLists.ipynb', '/Users/carloshorylka/RockPaperScissors.ipynb', '/Users/carloshorylka/PythonFunctions.ipynb', '/Users/carloshorylka/test_movies.ipynb', '/Users/carloshorylka/Section5WorldTrends.ipynb', '/Users/carloshorylka/dados_covid.ipynb', '/Users/carloshorylka/PythonBasics.ipynb', '/Users/carloshorylka/Dataframes.ipynb', '/Users/carloshorylka/Section_5_Homework_data.ipynb', '/Users/carloshorylka/python_a_z_loops.ipynb', '/Users/carloshorylka/Section_4_Homework_data.ipynb', '/Users/carloshorylka/enem_data.ipynb']\n"
     ]
    }
   ],
   "source": [
    "#this is an example on how to obtain a list of files which are in a certain directory\n",
    "\n",
    "import os\n",
    "cwd = os.getcwd()\n",
    "import glob\n",
    "FilesNames = print(glob.glob(\"/Users/carloshorylka/*.ipynb\"))"
   ]
  },
  {
   "cell_type": "code",
   "execution_count": null,
   "metadata": {},
   "outputs": [],
   "source": []
  },
  {
   "cell_type": "code",
   "execution_count": null,
   "metadata": {},
   "outputs": [],
   "source": []
  }
 ],
 "metadata": {
  "kernelspec": {
   "display_name": "Python 3",
   "language": "python",
   "name": "python3"
  },
  "language_info": {
   "codemirror_mode": {
    "name": "ipython",
    "version": 3
   },
   "file_extension": ".py",
   "mimetype": "text/x-python",
   "name": "python",
   "nbconvert_exporter": "python",
   "pygments_lexer": "ipython3",
   "version": "3.7.6"
  }
 },
 "nbformat": 4,
 "nbformat_minor": 4
}
