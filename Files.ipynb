{
 "cells": [
  {
   "cell_type": "code",
   "execution_count": 1,
   "metadata": {},
   "outputs": [
    {
     "data": {
      "text/plain": [
       "'folder1/folder2/folder3/file.png'"
      ]
     },
     "execution_count": 1,
     "metadata": {},
     "output_type": "execute_result"
    }
   ],
   "source": [
    "import os\n",
    "os.path.join('folder1', 'folder2', 'folder3', 'file.png')\n",
    "#Join two or more pathname components, inserting '/' as needed.\n",
    "#If any component is an absolute path, all previous path components\n",
    "#will be discarded.\n",
    "\n"
   ]
  },
  {
   "cell_type": "code",
   "execution_count": 2,
   "metadata": {},
   "outputs": [
    {
     "data": {
      "text/plain": [
       "'/'"
      ]
     },
     "execution_count": 2,
     "metadata": {},
     "output_type": "execute_result"
    }
   ],
   "source": [
    "os.sep #this separator is used because we're runnning a macos system"
   ]
  },
  {
   "cell_type": "code",
   "execution_count": 3,
   "metadata": {},
   "outputs": [
    {
     "data": {
      "text/plain": [
       "'/Users/carloshorylka'"
      ]
     },
     "execution_count": 3,
     "metadata": {},
     "output_type": "execute_result"
    }
   ],
   "source": [
    "#current working directory is obtained using the os.getcwd() function\n",
    "\n",
    "os.getcwd()"
   ]
  },
  {
   "cell_type": "code",
   "execution_count": 4,
   "metadata": {},
   "outputs": [
    {
     "data": {
      "text/plain": [
       "'/Users/carloshorylka/*.ipynb'"
      ]
     },
     "execution_count": 4,
     "metadata": {},
     "output_type": "execute_result"
    }
   ],
   "source": [
    "#if I want to change current working directory, use the function os.chdir() passing the changing directory\n",
    "#the function os.path.abspath() returns the absolute file path of a file\n",
    "\n",
    "os.path.abspath('*.ipynb')\n",
    "\n"
   ]
  },
  {
   "cell_type": "code",
   "execution_count": 5,
   "metadata": {},
   "outputs": [
    {
     "data": {
      "text/plain": [
       "True"
      ]
     },
     "execution_count": 5,
     "metadata": {},
     "output_type": "execute_result"
    }
   ],
   "source": [
    "#if you want to check whether or not this is an absolute path use the function os.path.isabs(filepath)\n",
    "os.path.isabs('/Users/carloshorylka/*.ipynb')"
   ]
  },
  {
   "cell_type": "code",
   "execution_count": 6,
   "metadata": {},
   "outputs": [
    {
     "data": {
      "text/plain": [
       "'carloshorylka/*.ipynb'"
      ]
     },
     "execution_count": 6,
     "metadata": {},
     "output_type": "execute_result"
    }
   ],
   "source": [
    "#in addition we also have the os.path.relpath() function which checks whether or not we're passing a relative path\n",
    "\n",
    "os.path.relpath('carloshorylka/*.ipynb')"
   ]
  },
  {
   "cell_type": "code",
   "execution_count": 7,
   "metadata": {},
   "outputs": [
    {
     "data": {
      "text/plain": [
       "'/Users/carloshorylka'"
      ]
     },
     "execution_count": 7,
     "metadata": {},
     "output_type": "execute_result"
    }
   ],
   "source": [
    "#there are also functions to return dir name and base name as follows:\n",
    "\n",
    "os.path.dirname('/Users/carloshorylka/*.ipynb')"
   ]
  },
  {
   "cell_type": "code",
   "execution_count": 8,
   "metadata": {},
   "outputs": [
    {
     "data": {
      "text/plain": [
       "'*.ipynb'"
      ]
     },
     "execution_count": 8,
     "metadata": {},
     "output_type": "execute_result"
    }
   ],
   "source": [
    "os.path.basename('/Users/carloshorylka/*.ipynb')"
   ]
  },
  {
   "cell_type": "code",
   "execution_count": 9,
   "metadata": {},
   "outputs": [
    {
     "data": {
      "text/plain": [
       "False"
      ]
     },
     "execution_count": 9,
     "metadata": {},
     "output_type": "execute_result"
    }
   ],
   "source": [
    "#the function os.path.exists() returns true or false if the path exists\n",
    "\n",
    "os.path.exists('Users/carloshorylka/*.ipynb') #this one returns false because file path was relative"
   ]
  },
  {
   "cell_type": "code",
   "execution_count": 11,
   "metadata": {},
   "outputs": [
    {
     "data": {
      "text/plain": [
       "True"
      ]
     },
     "execution_count": 11,
     "metadata": {},
     "output_type": "execute_result"
    }
   ],
   "source": [
    "os.path.exists('/Users/carloshorylka/Files.ipynb') #this one returns true because file path was complete"
   ]
  },
  {
   "cell_type": "code",
   "execution_count": 13,
   "metadata": {},
   "outputs": [
    {
     "data": {
      "text/plain": [
       "False"
      ]
     },
     "execution_count": 13,
     "metadata": {},
     "output_type": "execute_result"
    }
   ],
   "source": [
    "os.path.exists('/Users/carloshorylka/File.ipynb')"
   ]
  },
  {
   "cell_type": "code",
   "execution_count": 15,
   "metadata": {},
   "outputs": [
    {
     "data": {
      "text/plain": [
       "5456"
      ]
     },
     "execution_count": 15,
     "metadata": {},
     "output_type": "execute_result"
    }
   ],
   "source": [
    "#actually the file name is Files.ipynb :-)\n",
    "os.path.getsize('/Users/carloshorylka/Files.ipynb')  #retuns th file size"
   ]
  },
  {
   "cell_type": "code",
   "execution_count": 16,
   "metadata": {},
   "outputs": [
    {
     "data": {
      "text/plain": [
       "['Section_4_Homework_Fill_in_the_Blanks.ipynb',\n",
       " '.Rhistory',\n",
       " 'covid_sjp.ipynb',\n",
       " '.config',\n",
       " 'Music',\n",
       " 'Local Documents',\n",
       " 'Slicing.ipynb',\n",
       " 'StellaGrades.ipynb',\n",
       " 'StellaVocacional.ipynb',\n",
       " 'notas_das_aulas_datascience_.txt',\n",
       " '.DS_Store',\n",
       " '.r',\n",
       " 'weight_analysis.ipynb',\n",
       " 'Demographic-Data.csv',\n",
       " 'python_a_z_variables.ipynb',\n",
       " 'LawOfLargeNumbers.ipynb',\n",
       " '.CFUserTextEncoding',\n",
       " 'TesteVocacional.csv',\n",
       " 'GuessTheNumber.ipynb',\n",
       " '.subversion',\n",
       " 'Untitled.ipynb',\n",
       " 'Section_5_Homework_Fill_in_the_Blanks.ipynb',\n",
       " 'IfElifWhileFor.ipynb',\n",
       " 'covid19-pr.csv',\n",
       " '.local',\n",
       " 'Pictures',\n",
       " '.pylint.d',\n",
       " 'FinishingTouches.ipynb',\n",
       " 'BasketballFreeThrows.ipynb',\n",
       " 'StylingDashboards.ipynb',\n",
       " 'Nba_players.ipynb',\n",
       " 'Financial_Analysis_final.ipynb',\n",
       " 'Lists.ipynb',\n",
       " 'WebScrapping.ipynb',\n",
       " '.ipython',\n",
       " 'Desktop',\n",
       " 'Library',\n",
       " 'ImportingDataFrames.ipynb',\n",
       " '.matplotlib',\n",
       " '.oracle_jre_usage',\n",
       " 'PythonDataStructure.ipynb',\n",
       " 'seaborn-data',\n",
       " '.bash_profile.pysave',\n",
       " 'RegularExpressions.ipynb',\n",
       " 'CollatzSequence.ipynb',\n",
       " '.cups',\n",
       " 'aulas_links.txt',\n",
       " 'Numpy_and_arrays.ipynb',\n",
       " '.bash_sessions',\n",
       " 'MoviesRatingAnalytics_plots.ipynb',\n",
       " 'oo_bits&pieces.txt',\n",
       " '.irpf',\n",
       " 'Functions_packages.ipynb',\n",
       " 'Public',\n",
       " 'Python_Home_Work_Section3-Fill-The-Blanks.ipynb',\n",
       " 'PythonLists.ipynb',\n",
       " '.idlerc',\n",
       " '.receitanet',\n",
       " 'PythonDictionary.ipynb',\n",
       " 'Files.ipynb',\n",
       " 'Movie-Ratings.csv',\n",
       " 'RockPaperScissors.ipynb',\n",
       " '.rfb',\n",
       " '.venv',\n",
       " 'Movies',\n",
       " 'Applications',\n",
       " 'PythonFunctions.ipynb',\n",
       " 'test_movies.ipynb',\n",
       " 'Section5WorldTrends.ipynb',\n",
       " '.Trash',\n",
       " '.ipynb_checkpoints',\n",
       " '.jupyter',\n",
       " 'Documents',\n",
       " '.rstudio-desktop',\n",
       " 'Machine Learning A-Z (Codes and Datasets)',\n",
       " 'PythonStrings.ipynb',\n",
       " 'dados_covid.ipynb',\n",
       " '.vscode',\n",
       " 'sample_dataset.csv',\n",
       " 'PythonBasics.ipynb',\n",
       " '.bash_profile',\n",
       " '.dvdcss',\n",
       " 'Dataframes.ipynb',\n",
       " 'Downloads',\n",
       " '.bash_history',\n",
       " '.viminfo',\n",
       " 'Section_5_Homework_data.ipynb',\n",
       " 'python_a_z_loops.ipynb',\n",
       " '.conda',\n",
       " 'Section_4_Homework_data.ipynb',\n",
       " 'enem_data.ipynb']"
      ]
     },
     "execution_count": 16,
     "metadata": {},
     "output_type": "execute_result"
    }
   ],
   "source": [
    "os.listdir('/Users/carloshorylka/')    #returns the list dir on the folder"
   ]
  },
  {
   "cell_type": "code",
   "execution_count": 22,
   "metadata": {},
   "outputs": [
    {
     "name": "stdout",
     "output_type": "stream",
     "text": [
      "hello world!\n",
      "how are you all today?\n",
      "\n",
      "\n"
     ]
    }
   ],
   "source": [
    "#os.makedirs() this function creates a new folder on the passed path\n",
    "\n",
    "#reading and writing plaintext files\n",
    "\n",
    "hellofile = open('/Users/carloshorylka/test.txt')\n",
    "content = hellofile.read() # it returns a string with the file content\n",
    "hellofile.close()\n",
    "print(content)"
   ]
  },
  {
   "cell_type": "code",
   "execution_count": 26,
   "metadata": {},
   "outputs": [
    {
     "name": "stdout",
     "output_type": "stream",
     "text": [
      "['hello world!\\n', 'how are you all today?\\n', '\\n']\n"
     ]
    }
   ],
   "source": [
    "#we can also use readlines which returns a list of strings with the file content\n",
    "\n",
    "hellofile = open('/Users/carloshorylka/test.txt')\n",
    "content2 = hellofile.readlines()\n",
    "print(content2)\n",
    "hellofile.close()"
   ]
  },
  {
   "cell_type": "code",
   "execution_count": 27,
   "metadata": {},
   "outputs": [],
   "source": [
    "#if I want to append a new text file to the directory, I need to pass the\n",
    "#'w' argument as follows:\n",
    "\n",
    "helloFile = open('/Users/carloshorylka/test2.txt', 'a')"
   ]
  },
  {
   "cell_type": "code",
   "execution_count": 30,
   "metadata": {},
   "outputs": [],
   "source": [
    "#if I want to write something to this file, I need to pass the 'w'\n",
    "#argument as follows and pass a string:\n",
    "\n",
    "hellofile = open('/Users/carloshorylka/test2.txt', 'w')\n",
    "#opened the file test2.txt to write\n",
    "hellofile.write('hello all!!! we\\'re back\\n')\n",
    "hellofile.write('we\\'re now including a new line to the file')\n",
    "#wrote the string 'hello all, we're back'\n",
    "hellofile.close()\n",
    "#closed the file for writing "
   ]
  },
  {
   "cell_type": "code",
   "execution_count": 31,
   "metadata": {},
   "outputs": [],
   "source": [
    "#if I want to append lines to the file, I pass the 'a' argument as follows:\n",
    "\n",
    "hellofile = open('/Users/carloshorylka/test2.txt', 'a')\n",
    "hellofile.write('\\n\\nOK this is a new line')\n",
    "hellofile.write('\\n\\nHere we go for another line')\n",
    "hellofile.close()"
   ]
  },
  {
   "cell_type": "code",
   "execution_count": 32,
   "metadata": {},
   "outputs": [],
   "source": [
    "#if we want to store info as a dictionary we need to use the shelve module\n",
    "#as follows:\n",
    "\n",
    "import shelve\n",
    "shelFile = shelve.open('mydata')\n",
    "shelFile['dogs'] = ['Carly', 'Mel', 'Yana']\n",
    "shelFile.close()"
   ]
  },
  {
   "cell_type": "code",
   "execution_count": 33,
   "metadata": {},
   "outputs": [
    {
     "data": {
      "text/plain": [
       "['Carly', 'Mel', 'Yana']"
      ]
     },
     "execution_count": 33,
     "metadata": {},
     "output_type": "execute_result"
    }
   ],
   "source": [
    "shelFile = shelve.open('mydata') #\n",
    "shelFile['dogs']"
   ]
  },
  {
   "cell_type": "code",
   "execution_count": 35,
   "metadata": {},
   "outputs": [
    {
     "data": {
      "text/plain": [
       "KeysView(<shelve.DbfilenameShelf object at 0x7fe782e0bc10>)"
      ]
     },
     "execution_count": 35,
     "metadata": {},
     "output_type": "execute_result"
    }
   ],
   "source": [
    "#in this example dogs names are stored as a dictionary on the mydata.db file\n",
    "#I can open them passing only the dogs key\n",
    "#shelFile is a dictionary\n",
    "\n",
    "#as dictionaries they shelve file also have keys() and values() method as follows\n",
    "\n",
    "shelFile = shelve.open('mydata')\n",
    "shelFile.keys()"
   ]
  },
  {
   "cell_type": "code",
   "execution_count": 37,
   "metadata": {},
   "outputs": [
    {
     "data": {
      "text/plain": [
       "['dogs']"
      ]
     },
     "execution_count": 37,
     "metadata": {},
     "output_type": "execute_result"
    }
   ],
   "source": [
    "list(shelFile.keys())  #here I passed the keys() for the shelFile"
   ]
  },
  {
   "cell_type": "code",
   "execution_count": 38,
   "metadata": {},
   "outputs": [
    {
     "data": {
      "text/plain": [
       "[['Carly', 'Mel', 'Yana']]"
      ]
     },
     "execution_count": 38,
     "metadata": {},
     "output_type": "execute_result"
    }
   ],
   "source": [
    "list(shelFile.values()) #and here I've passed the values() for the dictionary"
   ]
  },
  {
   "cell_type": "code",
   "execution_count": 49,
   "metadata": {},
   "outputs": [
    {
     "name": "stdout",
     "output_type": "stream",
     "text": [
      "The folder is /Users/carloshorylka/Downloads/coisas do inss/\n",
      "The subfolders in/Users/carloshorylka/Downloads/coisas do inss/ are: []\n",
      "The filename in /Users/carloshorylka/Downloads/coisas do inss/ are: ['historico-creditos.pdf', 'documento resultado do recurso.pdf', 'carta_concessão.pdf', 'pagamentos.pdf', 'comprovante prorrogacao auxilio doenca.pdf', 'Carlos A M Horylka novo atestado jun 26, 2020.pdf', 'resultado-de-pericia.pdf', 'Carlos A M Horylka id_cnh.jpeg']\n",
      "\n"
     ]
    }
   ],
   "source": [
    "#shelve file are used to store data structures ...\n",
    "#if I want to check a folder tree I can make as follows:\n",
    "\n",
    "import os\n",
    "\n",
    "for folderName, subfolders, filenames in os.walk('/Users/carloshorylka/Downloads/coisas do inss/'):\n",
    "    print('The folder is ' + folderName)\n",
    "    print('The subfolders in' + folderName + ' are: ' + str(subfolders))\n",
    "    print('The filename in ' + folderName + ' are: ' + str(filenames))\n",
    "    print()"
   ]
  },
  {
   "cell_type": "code",
   "execution_count": null,
   "metadata": {},
   "outputs": [],
   "source": []
  }
 ],
 "metadata": {
  "kernelspec": {
   "display_name": "Python 3",
   "language": "python",
   "name": "python3"
  },
  "language_info": {
   "codemirror_mode": {
    "name": "ipython",
    "version": 3
   },
   "file_extension": ".py",
   "mimetype": "text/x-python",
   "name": "python",
   "nbconvert_exporter": "python",
   "pygments_lexer": "ipython3",
   "version": "3.7.6"
  }
 },
 "nbformat": 4,
 "nbformat_minor": 4
}
