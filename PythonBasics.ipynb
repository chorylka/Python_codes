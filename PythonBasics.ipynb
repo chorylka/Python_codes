{
 "cells": [
  {
   "cell_type": "raw",
   "metadata": {},
   "source": [
    "print('Olá Mundo')"
   ]
  },
  {
   "cell_type": "code",
   "execution_count": 3,
   "metadata": {},
   "outputs": [],
   "source": [
    "#hot to handle stack overflow\n",
    "#explain what you're trying to do\n",
    "#if you're getting an error message, specify the point where the message happens\n",
    "#C&P the entire error message, and your code to a pastebin site (i.e. github)\n",
    "#explain what you already did to solve the problem\n",
    "#list Python version and OS!!!\n",
    "#good reference: http://automatetheboringstuff.com\n"
   ]
  },
  {
   "cell_type": "code",
   "execution_count": 6,
   "metadata": {},
   "outputs": [
    {
     "name": "stdout",
     "output_type": "stream",
     "text": [
      "Pequeno Programa de Teste\n",
      "Como é seu nome?\n"
     ]
    },
    {
     "name": "stdin",
     "output_type": "stream",
     "text": [
      " Alessandra\n"
     ]
    },
    {
     "name": "stdout",
     "output_type": "stream",
     "text": [
      "Prazer em conhecê-lo, Alessandra\n",
      "Você sabia que o seu nome tem: \n",
      "10  letras?\n"
     ]
    }
   ],
   "source": [
    "#this is a simple program to say something and ask for name\n",
    "print('Pequeno Programa de Teste')\n",
    "print('Como é seu nome?') #pergunta qual o nome\n",
    "myName = input()\n",
    "print('Prazer em conhecê-lo, ' + myName)\n",
    "print('Você sabia que o seu nome tem: ')\n",
    "print(len(myName), ' letras?')"
   ]
  },
  {
   "cell_type": "code",
   "execution_count": 9,
   "metadata": {},
   "outputs": [
    {
     "name": "stdout",
     "output_type": "stream",
     "text": [
      "Qual a sua idade?\n"
     ]
    },
    {
     "name": "stdin",
     "output_type": "stream",
     "text": [
      " 50\n"
     ]
    },
    {
     "name": "stdout",
     "output_type": "stream",
     "text": [
      "Você terá 51 anos em um ano :-)\n"
     ]
    }
   ],
   "source": [
    "print('Qual a sua idade?') #pergunta qual a idade\n",
    "myAge = input()\n",
    "print('Você terá ' + str(int(myAge) + 1) + ' anos em um ano :-)')\n",
    "#str(int(myAge)) transforma a string myAge em um inteiro\n"
   ]
  },
  {
   "cell_type": "code",
   "execution_count": null,
   "metadata": {},
   "outputs": [],
   "source": []
  }
 ],
 "metadata": {
  "kernelspec": {
   "display_name": "Python 3",
   "language": "python",
   "name": "python3"
  },
  "language_info": {
   "codemirror_mode": {
    "name": "ipython",
    "version": 3
   },
   "file_extension": ".py",
   "mimetype": "text/x-python",
   "name": "python",
   "nbconvert_exporter": "python",
   "pygments_lexer": "ipython3",
   "version": "3.7.6"
  }
 },
 "nbformat": 4,
 "nbformat_minor": 4
}
