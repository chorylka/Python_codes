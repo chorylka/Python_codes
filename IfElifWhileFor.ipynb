{
 "cells": [
  {
   "cell_type": "code",
   "execution_count": 2,
   "metadata": {},
   "outputs": [
    {
     "name": "stdin",
     "output_type": "stream",
     "text": [
      " swordfish\n"
     ]
    },
    {
     "name": "stdout",
     "output_type": "stream",
     "text": [
      "Access Granted\n"
     ]
    }
   ],
   "source": [
    "password = input()\n",
    "if password == 'swordfish':\n",
    "    print('Access Granted')\n",
    "else:\n",
    "    print('Wrong Password !!!')\n"
   ]
  },
  {
   "cell_type": "code",
   "execution_count": 12,
   "metadata": {},
   "outputs": [
    {
     "name": "stdin",
     "output_type": "stream",
     "text": [
      " carlos\n",
      " 10000\n"
     ]
    },
    {
     "name": "stdout",
     "output_type": "stream",
     "text": [
      "Unlike you, Alive is not undead, immortal wampire\n"
     ]
    }
   ],
   "source": [
    "name = input()\n",
    "age = input()\n",
    "age = int(age)\n",
    "#print(type(age)) #convert string read in the input into integer; remember to always overwrite the variable\n",
    "if name == 'Alice':\n",
    "    print('Hi Alice')\n",
    "elif age < 12:\n",
    "    print('Damn it you are a baby!!!')\n",
    "elif age > 2000:\n",
    "    print('Unlike you, Alive is not undead, immortal wampire')\n",
    "elif age > 100:\n",
    "    print('You are not Alice grannie ... :0)')"
   ]
  },
  {
   "cell_type": "code",
   "execution_count": 14,
   "metadata": {},
   "outputs": [
    {
     "name": "stdout",
     "output_type": "stream",
     "text": [
      "Hello fucking World!!!\n",
      "Hello fucking World!!!\n",
      "Hello fucking World!!!\n",
      "Hello fucking World!!!\n",
      "Hello fucking World!!!\n"
     ]
    }
   ],
   "source": [
    "#um modelo simples usando instrução while\n",
    "\n",
    "spam = 0\n",
    "while spam < 5:\n",
    "    print('Hello fucking World!!!')\n",
    "    spam = spam +1"
   ]
  },
  {
   "cell_type": "code",
   "execution_count": 18,
   "metadata": {},
   "outputs": [
    {
     "name": "stdout",
     "output_type": "stream",
     "text": [
      "My name is ...\n",
      "Carlos Horylka 0\n",
      "Carlos Horylka 1\n",
      "Carlos Horylka 2\n",
      "Carlos Horylka 3\n",
      "Carlos Horylka 4\n"
     ]
    }
   ],
   "source": [
    "#now it's time for the for loop :-)\n",
    "\n",
    "print('My name is ...')\n",
    "for i in range(5):\n",
    "    print('Carlos Horylka' + s)"
   ]
  },
  {
   "cell_type": "code",
   "execution_count": 45,
   "metadata": {},
   "outputs": [
    {
     "name": "stdout",
     "output_type": "stream",
     "text": [
      "Who are you?\n"
     ]
    },
    {
     "name": "stdin",
     "output_type": "stream",
     "text": [
      " Stella\n"
     ]
    },
    {
     "name": "stdout",
     "output_type": "stream",
     "text": [
      "Who are you?\n"
     ]
    },
    {
     "name": "stdin",
     "output_type": "stream",
     "text": [
      " Carlos\n"
     ]
    },
    {
     "name": "stdout",
     "output_type": "stream",
     "text": [
      "Who are you?\n"
     ]
    },
    {
     "name": "stdin",
     "output_type": "stream",
     "text": [
      " Alessandra\n"
     ]
    },
    {
     "name": "stdout",
     "output_type": "stream",
     "text": [
      "Who are you?\n"
     ]
    },
    {
     "name": "stdin",
     "output_type": "stream",
     "text": [
      " Joe\n"
     ]
    },
    {
     "name": "stdout",
     "output_type": "stream",
     "text": [
      "Hi Joe. What is the password?\n"
     ]
    },
    {
     "name": "stdin",
     "output_type": "stream",
     "text": [
      " flyfish\n"
     ]
    },
    {
     "name": "stdout",
     "output_type": "stream",
     "text": [
      "Who are you?\n"
     ]
    },
    {
     "name": "stdin",
     "output_type": "stream",
     "text": [
      " Joe\n"
     ]
    },
    {
     "name": "stdout",
     "output_type": "stream",
     "text": [
      "Hi Joe. What is the password?\n"
     ]
    },
    {
     "name": "stdin",
     "output_type": "stream",
     "text": [
      " swordfish\n"
     ]
    },
    {
     "name": "stdout",
     "output_type": "stream",
     "text": [
      "Access Granted\n"
     ]
    }
   ],
   "source": [
    "while True:\n",
    "    print('Who are you?')\n",
    "    name = input()\n",
    "    if name != 'Joe':\n",
    "            continue\n",
    "    print('Hi Joe. What is the password?')\n",
    "    password = input()\n",
    "    if password == 'swordfish':\n",
    "            break\n",
    "print('Access Granted')           "
   ]
  },
  {
   "cell_type": "code",
   "execution_count": 50,
   "metadata": {},
   "outputs": [
    {
     "name": "stdout",
     "output_type": "stream",
     "text": [
      "0\n",
      "1\n",
      "3\n",
      "6\n",
      "10\n",
      "15\n",
      "21\n",
      "28\n",
      "36\n",
      "45\n",
      "45\n"
     ]
    }
   ],
   "source": [
    "#one more dummy using for\n",
    "\n",
    "total = 0\n",
    "for num in range(10):\n",
    "    total = total + num\n",
    "    print(total)\n",
    "    #for i in range(12,16):\n",
    "    #    print(i)\n",
    "print(total)    "
   ]
  },
  {
   "cell_type": "code",
   "execution_count": 55,
   "metadata": {},
   "outputs": [
    {
     "name": "stdout",
     "output_type": "stream",
     "text": [
      "0\n",
      "2\n",
      "4\n",
      "6\n",
      "8\n",
      "10\n",
      "8\n",
      "6\n",
      "4\n",
      "2\n"
     ]
    }
   ],
   "source": [
    "#now an example of \"for\" with step\n",
    "#0 --> start\n",
    "#1 --> stop\n",
    "#2 --> step\n",
    "\n",
    "for x in range(0, 10, 2):\n",
    "    print(x)\n",
    "for y in range(10, 0, -2):\n",
    "#10 --> start\n",
    "#0 --> stop\n",
    "#-2 --> step\n",
    "    print(y)\n",
    "    \n"
   ]
  },
  {
   "cell_type": "code",
   "execution_count": 59,
   "metadata": {},
   "outputs": [
    {
     "name": "stdout",
     "output_type": "stream",
     "text": [
      "9\n",
      "5\n",
      "1\n",
      "5\n",
      "9\n",
      "3\n",
      "6\n",
      "6\n",
      "9\n",
      "9\n"
     ]
    }
   ],
   "source": [
    "#this example is going to plot a couple of random numbers\n",
    "import random\n",
    "for w in range(10):\n",
    "    print(random.randint(1,10)) \n",
    "    #this line will print 5 random numbers\n"
   ]
  },
  {
   "cell_type": "code",
   "execution_count": 62,
   "metadata": {},
   "outputs": [
    {
     "name": "stdout",
     "output_type": "stream",
     "text": [
      "Type exit to exit the system ...\n"
     ]
    },
    {
     "name": "stdin",
     "output_type": "stream",
     "text": [
      " saida\n"
     ]
    },
    {
     "name": "stdout",
     "output_type": "stream",
     "text": [
      "You typed  saida.\n",
      "Type exit to exit the system ...\n"
     ]
    },
    {
     "name": "stdin",
     "output_type": "stream",
     "text": [
      " exit\n"
     ]
    },
    {
     "ename": "SystemExit",
     "evalue": "",
     "output_type": "error",
     "traceback": [
      "An exception has occurred, use %tb to see the full traceback.\n",
      "\u001b[0;31mSystemExit\u001b[0m\n"
     ]
    }
   ],
   "source": [
    "import sys\n",
    "\n",
    "while True:\n",
    "    print('Type exit to exit the system ...')\n",
    "    response = input()\n",
    "    if response == 'exit':\n",
    "        sys.exit()\n",
    "    print('You typed  '+ response + '.')    "
   ]
  },
  {
   "cell_type": "code",
   "execution_count": null,
   "metadata": {},
   "outputs": [],
   "source": []
  }
 ],
 "metadata": {
  "kernelspec": {
   "display_name": "Python 3",
   "language": "python",
   "name": "python3"
  },
  "language_info": {
   "codemirror_mode": {
    "name": "ipython",
    "version": 3
   },
   "file_extension": ".py",
   "mimetype": "text/x-python",
   "name": "python",
   "nbconvert_exporter": "python",
   "pygments_lexer": "ipython3",
   "version": "3.7.6"
  }
 },
 "nbformat": 4,
 "nbformat_minor": 4
}
