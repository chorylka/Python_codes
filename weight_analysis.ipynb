{
 "cells": [
  {
   "cell_type": "code",
   "execution_count": 1,
   "metadata": {},
   "outputs": [],
   "source": [
    "morning_weight = [116,\n",
    "115.6,\n",
    "114.5,\n",
    "114,\n",
    "114,\n",
    "114.8,\n",
    "\n",
    "112.9,\n",
    "113.2,\n",
    "112.9,\n",
    "112.7,\n",
    "112.3,\n",
    "112.1,\n",
    "112.4,\n",
    "112.4,\n",
    "111.7,\n",
    "111.5,\n",
    "112.8,\n",
    "111.8,\n",
    "111.8,\n",
    "\n",
    "111.4]"
   ]
  },
  {
   "cell_type": "code",
   "execution_count": 2,
   "metadata": {},
   "outputs": [
    {
     "data": {
      "text/plain": [
       "[116,\n",
       " 115.6,\n",
       " 114.5,\n",
       " 114,\n",
       " 114,\n",
       " 114.8,\n",
       " 112.9,\n",
       " 113.2,\n",
       " 112.9,\n",
       " 112.7,\n",
       " 112.3,\n",
       " 112.1,\n",
       " 112.4,\n",
       " 112.4,\n",
       " 111.7,\n",
       " 111.5,\n",
       " 112.8,\n",
       " 111.8,\n",
       " 111.8,\n",
       " 111.4]"
      ]
     },
     "execution_count": 2,
     "metadata": {},
     "output_type": "execute_result"
    }
   ],
   "source": [
    "morning_weight"
   ]
  },
  {
   "cell_type": "code",
   "execution_count": 4,
   "metadata": {},
   "outputs": [],
   "source": [
    "afternoon_weight = [115,\n",
    "\n",
    "\n",
    "\n",
    "113.7,\n",
    "\n",
    "\n",
    "\n",
    "113.6,\n",
    "\n",
    "112.5,\n",
    "112.8,\n",
    "112.5,\n",
    "112.3,\n",
    "112.8,\n",
    "112.5,\n",
    "112.3,\n",
    "112.2,\n",
    "\n",
    "111.7]"
   ]
  },
  {
   "cell_type": "code",
   "execution_count": 5,
   "metadata": {},
   "outputs": [
    {
     "data": {
      "text/plain": [
       "[115,\n",
       " 113.7,\n",
       " 113.6,\n",
       " 112.5,\n",
       " 112.8,\n",
       " 112.5,\n",
       " 112.3,\n",
       " 112.8,\n",
       " 112.5,\n",
       " 112.3,\n",
       " 112.2,\n",
       " 111.7]"
      ]
     },
     "execution_count": 5,
     "metadata": {},
     "output_type": "execute_result"
    }
   ],
   "source": [
    "afternoon_weight"
   ]
  },
  {
   "cell_type": "code",
   "execution_count": 6,
   "metadata": {},
   "outputs": [],
   "source": [
    "evening_weight = [115.6,\n",
    "\n",
    "115,\n",
    "114.8,\n",
    "114,\n",
    "114.3,\n",
    "\n",
    "114,\n",
    "113.2,\n",
    "113.2,\n",
    "\n",
    "113.1,\n",
    "112.8,\n",
    "112.8,\n",
    "111.8,\n",
    "113.1,\n",
    "\n",
    "112.8,\n",
    "111.7,\n",
    "112.9,\n",
    "110.9]"
   ]
  },
  {
   "cell_type": "code",
   "execution_count": 7,
   "metadata": {},
   "outputs": [
    {
     "name": "stdout",
     "output_type": "stream",
     "text": [
      "[116, 115.6, 114.5, 114, 114, 114.8, 112.9, 113.2, 112.9, 112.7, 112.3, 112.1, 112.4, 112.4, 111.7, 111.5, 112.8, 111.8, 111.8, 111.4] [115, 113.7, 113.6, 112.5, 112.8, 112.5, 112.3, 112.8, 112.5, 112.3, 112.2, 111.7] [115.6, 115, 114.8, 114, 114.3, 114, 113.2, 113.2, 113.1, 112.8, 112.8, 111.8, 113.1, 112.8, 111.7, 112.9, 110.9]\n"
     ]
    }
   ],
   "source": [
    "print (morning_weight, afternoon_weight, evening_weight)"
   ]
  },
  {
   "cell_type": "code",
   "execution_count": 8,
   "metadata": {},
   "outputs": [],
   "source": [
    "Weightdict = {\"morning\":0,\"afternoon\":1,\"evening\":2}"
   ]
  },
  {
   "cell_type": "code",
   "execution_count": 9,
   "metadata": {},
   "outputs": [],
   "source": [
    "dia = [\"13-Apr\",\n",
    "\"14-Apr\",\n",
    "\"15-Apr\",\n",
    "\"16-Apr\",\n",
    "\"17-Apr\",\n",
    "\"18-Apr\",\n",
    "\"19-Apr\",\n",
    "\"20-Apr\",\n",
    "\"21-Apr\",\n",
    "\"22-Apr\",\n",
    "\"23-Apr\",\n",
    "\"24-Apr\",\n",
    "\"25-Apr\",\n",
    "\"26-Apr\",\n",
    "\"27-Apr\",\n",
    "\"28-Apr\",\n",
    "\"29-Apr\",\n",
    "\"30-Apr\",\n",
    "\"1-May\",\n",
    "\"2-May\",\n",
    "\"3-May\"]"
   ]
  },
  {
   "cell_type": "code",
   "execution_count": 22,
   "metadata": {},
   "outputs": [
    {
     "data": {
      "image/png": "[encoded data removed]",
      "text/plain": [
       "<Figure size 432x288 with 1 Axes>"
      ]
     },
     "metadata": {
      "needs_background": "light"
     },
     "output_type": "display_data"
    }
   ],
   "source": [
    "import numpy as np\n",
    "import matplotlib.pyplot as plt\n",
    "\n",
    "%matplotlib inline\n",
    "\n",
    "plt.plot(morning_weight, c='Red', ls='--', marker='s', ms=7, label=\"morning\")\n",
    "plt.plot(afternoon_weight, c='Blue', ls='--', marker='o', ms=7, label=\"afternoon\")\n",
    "plt.plot(evening_weight, c='Green', ls='--', marker='v', ms=7, label=\"evening\")\n",
    "plt.legend()\n",
    "plt.xticks(list(range(0,20)), dia, rotation='vertical') \n",
    "plt.show()"
   ]
  },
  {
   "cell_type": "code",
   "execution_count": null,
   "metadata": {},
   "outputs": [],
   "source": []
  }
 ],
 "metadata": {
  "kernelspec": {
   "display_name": "Python 3",
   "language": "python",
   "name": "python3"
  },
  "language_info": {
   "codemirror_mode": {
    "name": "ipython",
    "version": 3
   },
   "file_extension": ".py",
   "mimetype": "text/x-python",
   "name": "python",
   "nbconvert_exporter": "python",
   "pygments_lexer": "ipython3",
   "version": "3.7.6"
  }
 },
 "nbformat": 4,
 "nbformat_minor": 4
}
